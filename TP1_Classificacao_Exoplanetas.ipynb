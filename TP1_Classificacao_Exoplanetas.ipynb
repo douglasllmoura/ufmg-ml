{
 "cells": [
  {
   "cell_type": "markdown",
   "metadata": {},
   "source": [
    "**Aluno:** Douglas Leite Leal Moura\n",
    "\n",
    "**Matrícula:** 2020715184"
   ]
  },
  {
   "cell_type": "markdown",
   "metadata": {},
   "source": [
    "**Trabalho Prático I - Machine Learning**\n",
    "\n",
    "_Classificação de Exoplanetas_\n",
    "\n",
    "## 1. Introdução\n",
    "\n",
    "### 1.1 Objetivo\n",
    "\n",
    "O objetivo deste trabalho prático é de praticar os conceitos aprendidos na disciplina e de adquirir experiência no uso de alguns dos principais métodos de classificação, na avaliação de modelos e na interpretação e apresentação de resultados de experimentos. Para isso você irá utilizar e comparar métodos de classificação baseados em princı́pios diferentes em um problema de classificação binária de candidatos a exoplanetas.\n",
    "\n",
    "* **Naive Bayes:** Apenas um experimento para servir de baseline\n",
    "* **Decision Tree:** Variar a altura máxima da árvore (incluindo permitir altura ilimitada) e\n",
    "mostrar os resultados graficamente\n",
    "* **SVM:** Avaliar os kernels linear, sigmoid, polinomial e RBF\n",
    "* **k-NN:** Variar o número k de vizinhos e mostrar os resultados graficamente\n",
    "* **Random Forest:** Variar o número de árvores e mostrar os resultados graficamente.\n",
    "* **Gradient Tree Boosting:** Variar o número de iterações e mostrar os resultados graficamente\n",
    "\n",
    "### 1.2 Instruções\n",
    "\n",
    "Este trabalho utiliza a bibliteca _scikit-learn_ da linguagem Python (versão 3.6).\n",
    "\n",
    "O ambiente virtual pode ser configurado mediante a execução dos seguintes comandos no terminal:"
   ]
  },
  {
   "cell_type": "raw",
   "metadata": {},
   "source": [
    "$ virtualenv -p python3 .env\n",
    "$ source .env/bin/activate\n",
    "$ pip install -r requirements.txt"
   ]
  },
  {
   "cell_type": "markdown",
   "metadata": {},
   "source": [
    "A sequência de comandos abaixo faz os imports necessários para a execução dos experimentos:"
   ]
  },
  {
   "cell_type": "code",
   "execution_count": 6,
   "metadata": {},
   "outputs": [],
   "source": [
    "import os\n",
    "import numpy as np\n",
    "import pandas as pd\n",
    "import matplotlib.pyplot as plt\n",
    "from sklearn.metrics import accuracy_score\n",
    "from sklearn.metrics import auc\n",
    "from sklearn.metrics import f1_score\n",
    "from sklearn.metrics import precision_score\n",
    "from sklearn.metrics import recall_score\n",
    "from sklearn.metrics import roc_curve\n",
    "from sklearn.model_selection import ParameterGrid\n",
    "from sklearn.model_selection import StratifiedKFold\n",
    "from sklearn.preprocessing import StandardScaler\n",
    "from sklearn.tree import plot_tree\n",
    "from tabulate import tabulate\n",
    "# classificadores\n",
    "from sklearn.naive_bayes import GaussianNB\n",
    "from sklearn.tree import DecisionTreeClassifier\n",
    "from sklearn.svm import SVC"
   ]
  },
  {
   "cell_type": "markdown",
   "metadata": {},
   "source": [
    "## 2. Conjunto de dados\n",
    "\n",
    "O conjunto de dados foi importado utilizando _Pandas_, uma poderosa biblioteca Python criada para a manipulação e análise de dados.\n",
    "\n",
    "O arquivo `koi_data.csv` trata-se do conjunto de dados utilizado neste problema de classificação binária de candidatos a exoplanetas. Um exoplaneta é um planeta fora do sistema solar (i.e. que não orbita o sol). A sonda primeiro identifica sinais de possı́veis exoplanetas, chamados de Kepler Object of Interest (KOI). Porém, nem todos os KOIs são de fato exoplanetas, alguns se tratam de falsos positivos de origens diversas. A tarefa é então classificar os KOIs entre exoplanetas confirmados e falsos positivos."
   ]
  },
  {
   "cell_type": "code",
   "execution_count": 7,
   "metadata": {},
   "outputs": [],
   "source": [
    "# caminho do arquivo\n",
    "KOI_PATH = os.path.join(\"datasets\", \"TP1\", \"\")\n",
    "\n",
    "# funcao para importar o csv utilizando a lib pandas\n",
    "def load_koi_data(koi_path=KOI_PATH):\n",
    "    csv_path = os.path.join(koi_path, \"koi_data.csv\")\n",
    "    return pd.read_csv(csv_path)\n",
    "\n",
    "# importando dados\n",
    "koi = load_koi_data()"
   ]
  },
  {
   "cell_type": "markdown",
   "metadata": {},
   "source": [
    "A base de dados contém 5202 linhas e 43 colunas.\n",
    "\n",
    "A primeira coluna identifica o KOI, a segunda traz a sua classificação correta (FALSE POSITIVE ou CONFIRMED) e as demais colunas são features sobre o KOI extraı́das de diversas formas."
   ]
  },
  {
   "cell_type": "code",
   "execution_count": 8,
   "metadata": {},
   "outputs": [
    {
     "data": {
      "text/html": [
       "<div>\n",
       "<style scoped>\n",
       "    .dataframe tbody tr th:only-of-type {\n",
       "        vertical-align: middle;\n",
       "    }\n",
       "\n",
       "    .dataframe tbody tr th {\n",
       "        vertical-align: top;\n",
       "    }\n",
       "\n",
       "    .dataframe thead th {\n",
       "        text-align: right;\n",
       "    }\n",
       "</style>\n",
       "<table border=\"1\" class=\"dataframe\">\n",
       "  <thead>\n",
       "    <tr style=\"text-align: right;\">\n",
       "      <th></th>\n",
       "      <th>kepoi_name</th>\n",
       "      <th>koi_disposition</th>\n",
       "      <th>koi_period</th>\n",
       "      <th>koi_impact</th>\n",
       "      <th>koi_duration</th>\n",
       "      <th>koi_depth</th>\n",
       "      <th>koi_ror</th>\n",
       "      <th>koi_srho</th>\n",
       "      <th>koi_prad</th>\n",
       "      <th>koi_sma</th>\n",
       "      <th>...</th>\n",
       "      <th>koi_fwm_srao</th>\n",
       "      <th>koi_fwm_sdeco</th>\n",
       "      <th>koi_fwm_prao</th>\n",
       "      <th>koi_fwm_pdeco</th>\n",
       "      <th>koi_dicco_mra</th>\n",
       "      <th>koi_dicco_mdec</th>\n",
       "      <th>koi_dicco_msky</th>\n",
       "      <th>koi_dikco_mra</th>\n",
       "      <th>koi_dikco_mdec</th>\n",
       "      <th>koi_dikco_msky</th>\n",
       "    </tr>\n",
       "  </thead>\n",
       "  <tbody>\n",
       "    <tr>\n",
       "      <th>0</th>\n",
       "      <td>K00752.01</td>\n",
       "      <td>CONFIRMED</td>\n",
       "      <td>9.48804</td>\n",
       "      <td>0.146</td>\n",
       "      <td>2.95750</td>\n",
       "      <td>615.8</td>\n",
       "      <td>0.02234</td>\n",
       "      <td>3.20796</td>\n",
       "      <td>2.26</td>\n",
       "      <td>0.0853</td>\n",
       "      <td>...</td>\n",
       "      <td>0.430</td>\n",
       "      <td>0.940</td>\n",
       "      <td>-0.00020</td>\n",
       "      <td>-0.00055</td>\n",
       "      <td>-0.010</td>\n",
       "      <td>0.200</td>\n",
       "      <td>0.200</td>\n",
       "      <td>0.080</td>\n",
       "      <td>0.310</td>\n",
       "      <td>0.320</td>\n",
       "    </tr>\n",
       "    <tr>\n",
       "      <th>1</th>\n",
       "      <td>K00752.02</td>\n",
       "      <td>CONFIRMED</td>\n",
       "      <td>54.41838</td>\n",
       "      <td>0.586</td>\n",
       "      <td>4.50700</td>\n",
       "      <td>874.8</td>\n",
       "      <td>0.02795</td>\n",
       "      <td>3.02368</td>\n",
       "      <td>2.83</td>\n",
       "      <td>0.2734</td>\n",
       "      <td>...</td>\n",
       "      <td>-0.630</td>\n",
       "      <td>1.230</td>\n",
       "      <td>0.00066</td>\n",
       "      <td>-0.00105</td>\n",
       "      <td>0.390</td>\n",
       "      <td>0.000</td>\n",
       "      <td>0.390</td>\n",
       "      <td>0.490</td>\n",
       "      <td>0.120</td>\n",
       "      <td>0.500</td>\n",
       "    </tr>\n",
       "    <tr>\n",
       "      <th>2</th>\n",
       "      <td>K00754.01</td>\n",
       "      <td>FALSE POSITIVE</td>\n",
       "      <td>1.73695</td>\n",
       "      <td>1.276</td>\n",
       "      <td>2.40641</td>\n",
       "      <td>8079.2</td>\n",
       "      <td>0.38739</td>\n",
       "      <td>0.22080</td>\n",
       "      <td>33.46</td>\n",
       "      <td>0.0267</td>\n",
       "      <td>...</td>\n",
       "      <td>-0.111</td>\n",
       "      <td>0.002</td>\n",
       "      <td>0.00302</td>\n",
       "      <td>-0.00142</td>\n",
       "      <td>-0.249</td>\n",
       "      <td>0.147</td>\n",
       "      <td>0.289</td>\n",
       "      <td>-0.257</td>\n",
       "      <td>0.099</td>\n",
       "      <td>0.276</td>\n",
       "    </tr>\n",
       "    <tr>\n",
       "      <th>3</th>\n",
       "      <td>K00755.01</td>\n",
       "      <td>CONFIRMED</td>\n",
       "      <td>2.52559</td>\n",
       "      <td>0.701</td>\n",
       "      <td>1.65450</td>\n",
       "      <td>603.3</td>\n",
       "      <td>0.02406</td>\n",
       "      <td>1.98635</td>\n",
       "      <td>2.75</td>\n",
       "      <td>0.0374</td>\n",
       "      <td>...</td>\n",
       "      <td>-0.010</td>\n",
       "      <td>0.230</td>\n",
       "      <td>0.00008</td>\n",
       "      <td>-0.00007</td>\n",
       "      <td>0.030</td>\n",
       "      <td>-0.090</td>\n",
       "      <td>0.100</td>\n",
       "      <td>0.070</td>\n",
       "      <td>0.020</td>\n",
       "      <td>0.070</td>\n",
       "    </tr>\n",
       "    <tr>\n",
       "      <th>4</th>\n",
       "      <td>K00114.01</td>\n",
       "      <td>FALSE POSITIVE</td>\n",
       "      <td>7.36179</td>\n",
       "      <td>1.169</td>\n",
       "      <td>5.02200</td>\n",
       "      <td>233.7</td>\n",
       "      <td>0.18339</td>\n",
       "      <td>0.00485</td>\n",
       "      <td>39.21</td>\n",
       "      <td>0.0820</td>\n",
       "      <td>...</td>\n",
       "      <td>-13.450</td>\n",
       "      <td>24.090</td>\n",
       "      <td>0.00303</td>\n",
       "      <td>-0.00555</td>\n",
       "      <td>-4.506</td>\n",
       "      <td>7.710</td>\n",
       "      <td>8.930</td>\n",
       "      <td>-4.537</td>\n",
       "      <td>7.713</td>\n",
       "      <td>8.948</td>\n",
       "    </tr>\n",
       "  </tbody>\n",
       "</table>\n",
       "<p>5 rows × 43 columns</p>\n",
       "</div>"
      ],
      "text/plain": [
       "  kepoi_name koi_disposition  koi_period  koi_impact  koi_duration  koi_depth  \\\n",
       "0  K00752.01       CONFIRMED     9.48804       0.146       2.95750      615.8   \n",
       "1  K00752.02       CONFIRMED    54.41838       0.586       4.50700      874.8   \n",
       "2  K00754.01  FALSE POSITIVE     1.73695       1.276       2.40641     8079.2   \n",
       "3  K00755.01       CONFIRMED     2.52559       0.701       1.65450      603.3   \n",
       "4  K00114.01  FALSE POSITIVE     7.36179       1.169       5.02200      233.7   \n",
       "\n",
       "   koi_ror  koi_srho  koi_prad  koi_sma  ...  koi_fwm_srao  koi_fwm_sdeco  \\\n",
       "0  0.02234   3.20796      2.26   0.0853  ...         0.430          0.940   \n",
       "1  0.02795   3.02368      2.83   0.2734  ...        -0.630          1.230   \n",
       "2  0.38739   0.22080     33.46   0.0267  ...        -0.111          0.002   \n",
       "3  0.02406   1.98635      2.75   0.0374  ...        -0.010          0.230   \n",
       "4  0.18339   0.00485     39.21   0.0820  ...       -13.450         24.090   \n",
       "\n",
       "   koi_fwm_prao  koi_fwm_pdeco  koi_dicco_mra  koi_dicco_mdec  koi_dicco_msky  \\\n",
       "0      -0.00020       -0.00055         -0.010           0.200           0.200   \n",
       "1       0.00066       -0.00105          0.390           0.000           0.390   \n",
       "2       0.00302       -0.00142         -0.249           0.147           0.289   \n",
       "3       0.00008       -0.00007          0.030          -0.090           0.100   \n",
       "4       0.00303       -0.00555         -4.506           7.710           8.930   \n",
       "\n",
       "   koi_dikco_mra  koi_dikco_mdec  koi_dikco_msky  \n",
       "0          0.080           0.310           0.320  \n",
       "1          0.490           0.120           0.500  \n",
       "2         -0.257           0.099           0.276  \n",
       "3          0.070           0.020           0.070  \n",
       "4         -4.537           7.713           8.948  \n",
       "\n",
       "[5 rows x 43 columns]"
      ]
     },
     "execution_count": 8,
     "metadata": {},
     "output_type": "execute_result"
    }
   ],
   "source": [
    "koi.head() # Exibe as 5 primeiras linhas do dataset."
   ]
  },
  {
   "cell_type": "markdown",
   "metadata": {},
   "source": [
    "Cada observação corresponde a um KOI e as features são caracterı́sticas estimadas de cada (possı́vel) exoplaneta (tamanho, temperatura, features da estrela hospedeira, etc)."
   ]
  },
  {
   "cell_type": "markdown",
   "metadata": {},
   "source": [
    "### 2.1 Tratamento dos dados"
   ]
  },
  {
   "cell_type": "markdown",
   "metadata": {},
   "source": [
    "A função `koi.info()` revelou que não havia dandos ausentes no conjunto de dados.\n",
    "\n",
    "Sendo assim, não houve necessidade de adotar procedimentos para preencher os dados ausentes.\n",
    "\n",
    "A partir de uma inspeção no conjunto de dados foi possível obter alguns _insights_. Por exemplo, a feature `kepoi_name` é um atributo categórico que descreve o nome do planeta, ela possui pouco potencial preditivo. Por isso, é interessante removê-la do conjunto de dados.\n",
    "\n",
    "Em seguida, o atributo `koi_disposition` foi atribuído à variável `y_train` para ser utilizado como rótulo."
   ]
  },
  {
   "cell_type": "code",
   "execution_count": 9,
   "metadata": {},
   "outputs": [
    {
     "name": "stdout",
     "output_type": "stream",
     "text": [
      "<class 'pandas.core.frame.DataFrame'>\n",
      "RangeIndex: 5202 entries, 0 to 5201\n",
      "Data columns (total 43 columns):\n",
      " #   Column            Non-Null Count  Dtype  \n",
      "---  ------            --------------  -----  \n",
      " 0   kepoi_name        5202 non-null   object \n",
      " 1   koi_disposition   5202 non-null   object \n",
      " 2   koi_period        5202 non-null   float64\n",
      " 3   koi_impact        5202 non-null   float64\n",
      " 4   koi_duration      5202 non-null   float64\n",
      " 5   koi_depth         5202 non-null   float64\n",
      " 6   koi_ror           5202 non-null   float64\n",
      " 7   koi_srho          5202 non-null   float64\n",
      " 8   koi_prad          5202 non-null   float64\n",
      " 9   koi_sma           5202 non-null   float64\n",
      " 10  koi_incl          5202 non-null   float64\n",
      " 11  koi_teq           5202 non-null   float64\n",
      " 12  koi_insol         5202 non-null   float64\n",
      " 13  koi_dor           5202 non-null   float64\n",
      " 14  koi_max_sngle_ev  5202 non-null   float64\n",
      " 15  koi_max_mult_ev   5202 non-null   float64\n",
      " 16  koi_model_snr     5202 non-null   float64\n",
      " 17  koi_steff         5202 non-null   float64\n",
      " 18  koi_slogg         5202 non-null   float64\n",
      " 19  koi_smet          5202 non-null   float64\n",
      " 20  koi_srad          5202 non-null   float64\n",
      " 21  koi_smass         5202 non-null   float64\n",
      " 22  koi_kepmag        5202 non-null   float64\n",
      " 23  koi_gmag          5202 non-null   float64\n",
      " 24  koi_rmag          5202 non-null   float64\n",
      " 25  koi_imag          5202 non-null   float64\n",
      " 26  koi_zmag          5202 non-null   float64\n",
      " 27  koi_jmag          5202 non-null   float64\n",
      " 28  koi_hmag          5202 non-null   float64\n",
      " 29  koi_kmag          5202 non-null   float64\n",
      " 30  koi_fwm_stat_sig  5202 non-null   float64\n",
      " 31  koi_fwm_sra       5202 non-null   float64\n",
      " 32  koi_fwm_sdec      5202 non-null   float64\n",
      " 33  koi_fwm_srao      5202 non-null   float64\n",
      " 34  koi_fwm_sdeco     5202 non-null   float64\n",
      " 35  koi_fwm_prao      5202 non-null   float64\n",
      " 36  koi_fwm_pdeco     5202 non-null   float64\n",
      " 37  koi_dicco_mra     5202 non-null   float64\n",
      " 38  koi_dicco_mdec    5202 non-null   float64\n",
      " 39  koi_dicco_msky    5202 non-null   float64\n",
      " 40  koi_dikco_mra     5202 non-null   float64\n",
      " 41  koi_dikco_mdec    5202 non-null   float64\n",
      " 42  koi_dikco_msky    5202 non-null   float64\n",
      "dtypes: float64(41), object(2)\n",
      "memory usage: 1.7+ MB\n"
     ]
    }
   ],
   "source": [
    "# verifica o tipo dos atributos e se existem dados faltantes.\n",
    "koi.info()"
   ]
  },
  {
   "cell_type": "markdown",
   "metadata": {},
   "source": [
    "### 2.2 Distribuição dos dados\n",
    "\n",
    "Após o tratamento inicial dos dados, observou-se a distribuição dos dados.\n",
    "\n",
    "A função `X.describe()` sumariza algumas informações extraídas de cada feature, como a média, desvio padrão e os quartis.\n",
    "\n",
    "No geral, foi possível perceber diferenças nas escalas dos atributos. Sendo necessário normalizar os dados. A fim de evitar vazamento de dados, a normalização foi realizada posteriormente, após o particionamento dos dados."
   ]
  },
  {
   "cell_type": "code",
   "execution_count": 10,
   "metadata": {},
   "outputs": [
    {
     "data": {
      "text/html": [
       "<div>\n",
       "<style scoped>\n",
       "    .dataframe tbody tr th:only-of-type {\n",
       "        vertical-align: middle;\n",
       "    }\n",
       "\n",
       "    .dataframe tbody tr th {\n",
       "        vertical-align: top;\n",
       "    }\n",
       "\n",
       "    .dataframe thead th {\n",
       "        text-align: right;\n",
       "    }\n",
       "</style>\n",
       "<table border=\"1\" class=\"dataframe\">\n",
       "  <thead>\n",
       "    <tr style=\"text-align: right;\">\n",
       "      <th></th>\n",
       "      <th>koi_period</th>\n",
       "      <th>koi_impact</th>\n",
       "      <th>koi_duration</th>\n",
       "      <th>koi_depth</th>\n",
       "      <th>koi_ror</th>\n",
       "      <th>koi_srho</th>\n",
       "      <th>koi_prad</th>\n",
       "      <th>koi_sma</th>\n",
       "      <th>koi_incl</th>\n",
       "      <th>koi_teq</th>\n",
       "      <th>...</th>\n",
       "      <th>koi_fwm_srao</th>\n",
       "      <th>koi_fwm_sdeco</th>\n",
       "      <th>koi_fwm_prao</th>\n",
       "      <th>koi_fwm_pdeco</th>\n",
       "      <th>koi_dicco_mra</th>\n",
       "      <th>koi_dicco_mdec</th>\n",
       "      <th>koi_dicco_msky</th>\n",
       "      <th>koi_dikco_mra</th>\n",
       "      <th>koi_dikco_mdec</th>\n",
       "      <th>koi_dikco_msky</th>\n",
       "    </tr>\n",
       "  </thead>\n",
       "  <tbody>\n",
       "    <tr>\n",
       "      <th>count</th>\n",
       "      <td>5202.000000</td>\n",
       "      <td>5202.000000</td>\n",
       "      <td>5202.000000</td>\n",
       "      <td>5202.000000</td>\n",
       "      <td>5202.000000</td>\n",
       "      <td>5202.000000</td>\n",
       "      <td>5202.000000</td>\n",
       "      <td>5202.000000</td>\n",
       "      <td>5202.000000</td>\n",
       "      <td>5202.000000</td>\n",
       "      <td>...</td>\n",
       "      <td>5202.000000</td>\n",
       "      <td>5202.000000</td>\n",
       "      <td>5202.000000</td>\n",
       "      <td>5202.000000</td>\n",
       "      <td>5202.000000</td>\n",
       "      <td>5202.000000</td>\n",
       "      <td>5202.000000</td>\n",
       "      <td>5202.000000</td>\n",
       "      <td>5202.000000</td>\n",
       "      <td>5202.000000</td>\n",
       "    </tr>\n",
       "    <tr>\n",
       "      <th>mean</th>\n",
       "      <td>37.032237</td>\n",
       "      <td>0.717106</td>\n",
       "      <td>5.607025</td>\n",
       "      <td>21340.318993</td>\n",
       "      <td>0.235205</td>\n",
       "      <td>3.415370</td>\n",
       "      <td>112.230798</td>\n",
       "      <td>0.158146</td>\n",
       "      <td>81.181413</td>\n",
       "      <td>1143.721069</td>\n",
       "      <td>...</td>\n",
       "      <td>-0.355681</td>\n",
       "      <td>-0.805629</td>\n",
       "      <td>-0.000263</td>\n",
       "      <td>0.000439</td>\n",
       "      <td>-0.049743</td>\n",
       "      <td>-0.087413</td>\n",
       "      <td>1.930251</td>\n",
       "      <td>-0.038402</td>\n",
       "      <td>-0.098738</td>\n",
       "      <td>1.920226</td>\n",
       "    </tr>\n",
       "    <tr>\n",
       "      <th>std</th>\n",
       "      <td>88.417985</td>\n",
       "      <td>2.628207</td>\n",
       "      <td>6.962634</td>\n",
       "      <td>66989.808550</td>\n",
       "      <td>2.586213</td>\n",
       "      <td>25.131368</td>\n",
       "      <td>3699.799318</td>\n",
       "      <td>0.241792</td>\n",
       "      <td>16.308839</td>\n",
       "      <td>775.788868</td>\n",
       "      <td>...</td>\n",
       "      <td>10.978677</td>\n",
       "      <td>14.741473</td>\n",
       "      <td>0.065707</td>\n",
       "      <td>0.077519</td>\n",
       "      <td>2.465670</td>\n",
       "      <td>2.746534</td>\n",
       "      <td>3.147553</td>\n",
       "      <td>2.465094</td>\n",
       "      <td>2.734732</td>\n",
       "      <td>3.142764</td>\n",
       "    </tr>\n",
       "    <tr>\n",
       "      <th>min</th>\n",
       "      <td>0.306940</td>\n",
       "      <td>0.000000</td>\n",
       "      <td>0.104600</td>\n",
       "      <td>0.800000</td>\n",
       "      <td>0.001290</td>\n",
       "      <td>0.000040</td>\n",
       "      <td>0.080000</td>\n",
       "      <td>0.007200</td>\n",
       "      <td>2.290000</td>\n",
       "      <td>92.000000</td>\n",
       "      <td>...</td>\n",
       "      <td>-275.600000</td>\n",
       "      <td>-397.620000</td>\n",
       "      <td>-4.000000</td>\n",
       "      <td>-0.800000</td>\n",
       "      <td>-21.500000</td>\n",
       "      <td>-75.900000</td>\n",
       "      <td>0.000000</td>\n",
       "      <td>-23.600000</td>\n",
       "      <td>-76.600000</td>\n",
       "      <td>0.000000</td>\n",
       "    </tr>\n",
       "    <tr>\n",
       "      <th>25%</th>\n",
       "      <td>2.213962</td>\n",
       "      <td>0.226000</td>\n",
       "      <td>2.500250</td>\n",
       "      <td>176.800000</td>\n",
       "      <td>0.013058</td>\n",
       "      <td>0.176092</td>\n",
       "      <td>1.460000</td>\n",
       "      <td>0.033000</td>\n",
       "      <td>81.930000</td>\n",
       "      <td>615.250000</td>\n",
       "      <td>...</td>\n",
       "      <td>-0.500000</td>\n",
       "      <td>-0.570000</td>\n",
       "      <td>-0.000240</td>\n",
       "      <td>-0.000240</td>\n",
       "      <td>-0.270000</td>\n",
       "      <td>-0.291500</td>\n",
       "      <td>0.128250</td>\n",
       "      <td>-0.265250</td>\n",
       "      <td>-0.320000</td>\n",
       "      <td>0.180000</td>\n",
       "    </tr>\n",
       "    <tr>\n",
       "      <th>50%</th>\n",
       "      <td>7.386755</td>\n",
       "      <td>0.610000</td>\n",
       "      <td>3.805500</td>\n",
       "      <td>495.950000</td>\n",
       "      <td>0.024185</td>\n",
       "      <td>0.748045</td>\n",
       "      <td>2.600000</td>\n",
       "      <td>0.073650</td>\n",
       "      <td>87.890000</td>\n",
       "      <td>948.000000</td>\n",
       "      <td>...</td>\n",
       "      <td>0.000000</td>\n",
       "      <td>-0.030000</td>\n",
       "      <td>0.000000</td>\n",
       "      <td>0.000000</td>\n",
       "      <td>0.000000</td>\n",
       "      <td>0.000000</td>\n",
       "      <td>0.460000</td>\n",
       "      <td>-0.007000</td>\n",
       "      <td>-0.018000</td>\n",
       "      <td>0.453000</td>\n",
       "    </tr>\n",
       "    <tr>\n",
       "      <th>75%</th>\n",
       "      <td>23.448117</td>\n",
       "      <td>0.923750</td>\n",
       "      <td>6.000750</td>\n",
       "      <td>2120.525000</td>\n",
       "      <td>0.171260</td>\n",
       "      <td>2.267063</td>\n",
       "      <td>21.645000</td>\n",
       "      <td>0.158200</td>\n",
       "      <td>89.520000</td>\n",
       "      <td>1482.000000</td>\n",
       "      <td>...</td>\n",
       "      <td>0.500000</td>\n",
       "      <td>0.450000</td>\n",
       "      <td>0.000260</td>\n",
       "      <td>0.000280</td>\n",
       "      <td>0.230000</td>\n",
       "      <td>0.230000</td>\n",
       "      <td>2.570000</td>\n",
       "      <td>0.226250</td>\n",
       "      <td>0.250000</td>\n",
       "      <td>2.420000</td>\n",
       "    </tr>\n",
       "    <tr>\n",
       "      <th>max</th>\n",
       "      <td>1071.232620</td>\n",
       "      <td>100.806000</td>\n",
       "      <td>138.540000</td>\n",
       "      <td>864260.000000</td>\n",
       "      <td>99.870650</td>\n",
       "      <td>918.752390</td>\n",
       "      <td>200346.000000</td>\n",
       "      <td>2.034500</td>\n",
       "      <td>90.000000</td>\n",
       "      <td>9791.000000</td>\n",
       "      <td>...</td>\n",
       "      <td>97.780000</td>\n",
       "      <td>98.780000</td>\n",
       "      <td>1.190000</td>\n",
       "      <td>5.000000</td>\n",
       "      <td>45.680000</td>\n",
       "      <td>27.500000</td>\n",
       "      <td>88.600000</td>\n",
       "      <td>46.570000</td>\n",
       "      <td>31.200000</td>\n",
       "      <td>89.600000</td>\n",
       "    </tr>\n",
       "  </tbody>\n",
       "</table>\n",
       "<p>8 rows × 41 columns</p>\n",
       "</div>"
      ],
      "text/plain": [
       "        koi_period   koi_impact  koi_duration      koi_depth      koi_ror  \\\n",
       "count  5202.000000  5202.000000   5202.000000    5202.000000  5202.000000   \n",
       "mean     37.032237     0.717106      5.607025   21340.318993     0.235205   \n",
       "std      88.417985     2.628207      6.962634   66989.808550     2.586213   \n",
       "min       0.306940     0.000000      0.104600       0.800000     0.001290   \n",
       "25%       2.213962     0.226000      2.500250     176.800000     0.013058   \n",
       "50%       7.386755     0.610000      3.805500     495.950000     0.024185   \n",
       "75%      23.448117     0.923750      6.000750    2120.525000     0.171260   \n",
       "max    1071.232620   100.806000    138.540000  864260.000000    99.870650   \n",
       "\n",
       "          koi_srho       koi_prad      koi_sma     koi_incl      koi_teq  ...  \\\n",
       "count  5202.000000    5202.000000  5202.000000  5202.000000  5202.000000  ...   \n",
       "mean      3.415370     112.230798     0.158146    81.181413  1143.721069  ...   \n",
       "std      25.131368    3699.799318     0.241792    16.308839   775.788868  ...   \n",
       "min       0.000040       0.080000     0.007200     2.290000    92.000000  ...   \n",
       "25%       0.176092       1.460000     0.033000    81.930000   615.250000  ...   \n",
       "50%       0.748045       2.600000     0.073650    87.890000   948.000000  ...   \n",
       "75%       2.267063      21.645000     0.158200    89.520000  1482.000000  ...   \n",
       "max     918.752390  200346.000000     2.034500    90.000000  9791.000000  ...   \n",
       "\n",
       "       koi_fwm_srao  koi_fwm_sdeco  koi_fwm_prao  koi_fwm_pdeco  \\\n",
       "count   5202.000000    5202.000000   5202.000000    5202.000000   \n",
       "mean      -0.355681      -0.805629     -0.000263       0.000439   \n",
       "std       10.978677      14.741473      0.065707       0.077519   \n",
       "min     -275.600000    -397.620000     -4.000000      -0.800000   \n",
       "25%       -0.500000      -0.570000     -0.000240      -0.000240   \n",
       "50%        0.000000      -0.030000      0.000000       0.000000   \n",
       "75%        0.500000       0.450000      0.000260       0.000280   \n",
       "max       97.780000      98.780000      1.190000       5.000000   \n",
       "\n",
       "       koi_dicco_mra  koi_dicco_mdec  koi_dicco_msky  koi_dikco_mra  \\\n",
       "count    5202.000000     5202.000000     5202.000000    5202.000000   \n",
       "mean       -0.049743       -0.087413        1.930251      -0.038402   \n",
       "std         2.465670        2.746534        3.147553       2.465094   \n",
       "min       -21.500000      -75.900000        0.000000     -23.600000   \n",
       "25%        -0.270000       -0.291500        0.128250      -0.265250   \n",
       "50%         0.000000        0.000000        0.460000      -0.007000   \n",
       "75%         0.230000        0.230000        2.570000       0.226250   \n",
       "max        45.680000       27.500000       88.600000      46.570000   \n",
       "\n",
       "       koi_dikco_mdec  koi_dikco_msky  \n",
       "count     5202.000000     5202.000000  \n",
       "mean        -0.098738        1.920226  \n",
       "std          2.734732        3.142764  \n",
       "min        -76.600000        0.000000  \n",
       "25%         -0.320000        0.180000  \n",
       "50%         -0.018000        0.453000  \n",
       "75%          0.250000        2.420000  \n",
       "max         31.200000       89.600000  \n",
       "\n",
       "[8 rows x 41 columns]"
      ]
     },
     "execution_count": 10,
     "metadata": {},
     "output_type": "execute_result"
    }
   ],
   "source": [
    "# remove a feature 'kepoi_name'.\n",
    "columns = ['kepoi_name']\n",
    "koi = koi.drop(columns=columns)\n",
    "\n",
    "# remove a feature 'koi_position', pois ele e a classe que queremos predizer.\n",
    "X = koi.drop(\"koi_disposition\", axis=1)\n",
    "y = koi[\"koi_disposition\"].copy()\n",
    "\n",
    "# fornece uma visao geral da distribuicao dos dados\n",
    "X.describe()"
   ]
  },
  {
   "cell_type": "markdown",
   "metadata": {},
   "source": [
    "Por fim, foi analisado a distribuição dos exemplos entre as classes. O histograma revelou um certo desbalanceamento na distribução, onde cerca de 40.45% dos exemplos pertence a classe `CONFIRMED` e 59.55% pertence a classe `FALSE POSITIVE`, uma diferença de aproximadamente 19.10%."
   ]
  },
  {
   "cell_type": "code",
   "execution_count": 11,
   "metadata": {},
   "outputs": [
    {
     "data": {
      "image/png": "[encoded data removed]",
      "text/plain": [
       "<Figure size 432x288 with 1 Axes>"
      ]
     },
     "metadata": {
      "needs_background": "light"
     },
     "output_type": "display_data"
    }
   ],
   "source": [
    "# plota um histograma de y.\n",
    "plt.hist(y, bins=3)\n",
    "plt.ylabel('Número de exemplos')\n",
    "plt.show()"
   ]
  },
  {
   "cell_type": "markdown",
   "metadata": {},
   "source": [
    "## 3. Implementação\n",
    "\n",
    "\n",
    "### 3.1 Funções Auxiliares\n",
    "\n",
    "Algumas funções e classes foram implementadas para auxiliar os experimentos de treinamento e visualização dos resultados.\n",
    "\n",
    "A classe `Scores` foi criada para facilitar o cálculo e visualização das métricas de desempenho.\n",
    "\n",
    "O classificador irá treinar o modelo e registrar as métricas na classe `Scores` por meio do método `adicionar`. Esta classe também fornece a média e o desvio padrão da acurácia."
   ]
  },
  {
   "cell_type": "code",
   "execution_count": 12,
   "metadata": {},
   "outputs": [],
   "source": [
    "class Scores(object):\n",
    "    \"\"\"Registra as métricas de desempenho.\"\"\"\n",
    "    def __init__(self):\n",
    "        self.accuracy = []\n",
    "        self.fpr = []\n",
    "        self.tpr = []\n",
    "        self.precision = []\n",
    "        self.recall = []\n",
    "        self.f1 = []\n",
    "        self.folds = 0\n",
    "        \n",
    "    def mean(self):\n",
    "        \"\"\"Retorna a media da acuracia.\"\"\"\n",
    "        return np.mean(self.accuracy)\n",
    "    \n",
    "    def std(self):\n",
    "        \"\"\"Calcula o desvio padrao da acuracia.\"\"\"\n",
    "        return np.std(self.accuracy)        \n",
    "    \n",
    "    def adicionar(self, accuracy, fpr, tpr, precision, recall, f1):\n",
    "        \"\"\"Adiciona as métricas de cada fold.\"\"\"\n",
    "        self.accuracy.append(accuracy)\n",
    "        self.fpr.append(fpr)\n",
    "        self.tpr.append(tpr)\n",
    "        self.precision.append(precision)\n",
    "        self.recall.append(recall)\n",
    "        self.f1.append(f1)\n",
    "        self.folds += 1 # incrementa o numero de folds"
   ]
  },
  {
   "cell_type": "markdown",
   "metadata": {},
   "source": [
    "A função `show_scores` utiliza a biblioteca `tabulate` para produzir um relatório contendo as métricas de precision, recall, F1-score de cada fold, além de uma média. "
   ]
  },
  {
   "cell_type": "code",
   "execution_count": 128,
   "metadata": {},
   "outputs": [],
   "source": [
    "def show_scores(precision, recall, f1, folds):\n",
    "        \"\"\"Mostra uma tabela com as métricas de desempenho.\"\"\"\n",
    "        table = []\n",
    "        matrix = np.zeros((folds, 4))\n",
    "        \n",
    "        # metrica para cada fold.\n",
    "        for i in range(folds):\n",
    "            row = []\n",
    "            matrix[i,:] = [int(i), np.mean(precision[i]), np.mean(recall[i]), np.mean(f1[i])]\n",
    "            row.append(i) # numero de folds\n",
    "            row.append(format(matrix[i,1], '.3f')) # media do precision\n",
    "            row.append(format(matrix[i,2], '.3f')) # media do recall\n",
    "            row.append(format(matrix[i,3], '.3f')) # media do f1\n",
    "            table.append(row)\n",
    "        \n",
    "        # media\n",
    "        row = []\n",
    "        media = list(matrix[:,1:].mean(0))\n",
    "        row.append(\"Média\")\n",
    "        row.append(format(media[0], '.3f'))\n",
    "        row.append(format(media[1], '.3f'))\n",
    "        row.append(format(media[2], '.3f'))\n",
    "        \n",
    "        table.append(row)\n",
    "\n",
    "        names = [\"# fold\", \"Precision\", \"Recall\", \"F1-score\"]\n",
    "        table = tabulate(table, headers=names, tablefmt=\"pretty\")\n",
    "    \n",
    "        return table"
   ]
  },
  {
   "cell_type": "code",
   "execution_count": 236,
   "metadata": {},
   "outputs": [],
   "source": [
    "def plt_parametro(X, y, model, params, lim=None):\n",
    "    \"\"\"Função para gerar o gráfico da acurácia.\"\"\"\n",
    "    param_grid = ParameterGrid(params)\n",
    "    \n",
    "    mean = []\n",
    "    std = []\n",
    "    x = []\n",
    "    xlab = list(params)[0]\n",
    "    \n",
    "    for params in param_grid:\n",
    "        x += (params.values())\n",
    "        model.set_params(**params)\n",
    "        clf = Classificador(X, y, model)\n",
    "        clf.treinar()\n",
    "        mean.append(clf.scores.mean())\n",
    "        std.append(clf.scores.std())\n",
    "\n",
    "    # Plota a média e o desvio padrão do cross-validation.\n",
    "    plt.figure()\n",
    "    mean = np.array(mean)\n",
    "    std = np.array(std)\n",
    "    plt.plot(x, mean)\n",
    "    plt.fill_between(x,mean-std,mean+std,alpha=.1)\n",
    "    plt.title(\"Acurácia do cross-validation\")\n",
    "    plt.xlabel(xlab)\n",
    "    plt.ylabel(\"Acurácia\")\n",
    "    if lim == None:\n",
    "        plt.ylim(0.8, 1)\n",
    "    else:\n",
    "        plt.ylim(lim, 1)\n",
    "    plt.show()"
   ]
  },
  {
   "cell_type": "code",
   "execution_count": 207,
   "metadata": {},
   "outputs": [],
   "source": [
    "def plt_roc(fpr, tpr, folds):\n",
    "    \"\"\"Função para gerar o gráfico da curva ROC.\"\"\"\n",
    "    \n",
    "    plt.figure()\n",
    "    mean_fpr = np.linspace(0,1,100)\n",
    "    mean_auc = []\n",
    "    tprs = []\n",
    "    \n",
    "    # Irá gerar uma curva para cada fold.\n",
    "    for i in range(folds):\n",
    "        roc_auc = auc(fpr[i], tpr[i]) # calcula area sob a curva (AUC)\n",
    "        mean_auc.append(roc_auc)\n",
    "        lbl = \"Fold {} (AUC = {:.2f})\".format(i, roc_auc)\n",
    "        plt.plot(fpr[i], tpr[i], alpha=0.3, linewidth=2, label=lbl)\n",
    "        tprs.append(np.interp(mean_fpr, fpr[i], tpr[i]))\n",
    "    \n",
    "    # Irá plotar a média dos folds\n",
    "    mean_tpr = np.mean(tprs, axis=0)\n",
    "    lbl = \"Média (AUC = {:.2f})\".format(np.mean(mean_auc))\n",
    "    plt.plot(mean_fpr, mean_tpr, \"b\", linewidth=2, label=lbl)\n",
    "    \n",
    "    plt.plot([0, 1], [0, 1], 'k--')\n",
    "    plt.axis([0, 1, 0, 1])\n",
    "    plt.title(\"Curva ROC\")\n",
    "    plt.xlabel('False Positive Rate')\n",
    "    plt.ylabel('True Positive Rate')\n",
    "    plt.legend(loc=\"lower right\")\n",
    "    plt.show()"
   ]
  },
  {
   "cell_type": "markdown",
   "metadata": {},
   "source": [
    "### 3.2 Método de Validação Cruzada\n",
    "\n",
    "Como forma de melhor avaliar a capacidade de generalização dos modelos analisados, adotou-se o método de valizadação cruzada por meio do k-fold.\n",
    "\n",
    "O conjunto de dados foi particionado em 5 folds. Desta forma, cada partição será utilizada para treino e teste.\n",
    "\n",
    "Como forma de evitar vazamento de dados, o processo de normalização dos dados foi executado em cada fold seguindo a seguinte função:\n",
    "\n",
    "`z = (x - u) / s`\n",
    "\n",
    "Onde `u` é a média dos exemplos de treinamento `x` e `s` é o desvio padrão."
   ]
  },
  {
   "cell_type": "code",
   "execution_count": 205,
   "metadata": {},
   "outputs": [],
   "source": [
    "class Classificador(object):\n",
    "    '''Classe responsável por treinar o modelo.'''\n",
    "    \n",
    "    def __init__(self, X, y, model, folds=5):\n",
    "        \n",
    "        self.X = X # Conjunto de dados\n",
    "        self.y = y # Classe dos dados\n",
    "        self.model = model # Modelo usado para treinar\n",
    "        self.folds = folds # Numero de k-folds (default 5).\n",
    "        self.scores = Scores() # Metricas do classificador\n",
    "    \n",
    "    def treinar(self):\n",
    "        \"\"\"Treina o classificador usando o k-fold.\"\"\"\n",
    "\n",
    "        skf = StratifiedKFold(n_splits=self.folds, shuffle=False)\n",
    "\n",
    "        for train_index, test_index in skf.split(self.X, self.y):\n",
    "            X_train,X_test = X.iloc[train_index],X.iloc[test_index]\n",
    "            y_train,y_test = y.iloc[train_index],y.iloc[test_index]\n",
    "\n",
    "            # normalização\n",
    "            scaler = StandardScaler()\n",
    "            X_train = scaler.fit_transform(X_train)\n",
    "            X_test = scaler.transform(X_test)\n",
    "\n",
    "            # treinamento\n",
    "            self.model.fit(X_train,y_train)\n",
    "            y_pred = self.model.predict(X_test).reshape(-1,)\n",
    "            \n",
    "            # calcula todos os scores\n",
    "            accuracy = accuracy_score(y_test, y_pred) # acurácia\n",
    "            y_pred_proba = self.model.predict_proba(X_test)[::,0]\n",
    "            fpr, tpr, thresholds = roc_curve(y_test, y_pred_proba, pos_label=\"CONFIRMED\") # curva roc\n",
    "            precision = precision_score(y_test, y_pred, pos_label='CONFIRMED', zero_division=0) # precision\n",
    "            recall = recall_score(y_test, y_pred, pos_label='CONFIRMED', zero_division=0) # recall\n",
    "            f1 = f1_score(y_test, y_pred, pos_label='CONFIRMED', zero_division=0) # f1-score\n",
    "            \n",
    "            # salva os scores\n",
    "            self.scores.adicionar(accuracy, fpr, tpr, precision, recall, f1)\n",
    "\n",
    "        return self.model"
   ]
  },
  {
   "cell_type": "markdown",
   "metadata": {},
   "source": [
    "Para facilitar o processo de descoberta do melhor conjunto de hiper-parâmetros, foi proposta uma função `find_parameters`, que recebe como entrada o conjunto de dados, a classe, o modelo e um dicionário de hiper-parâmetros.\n",
    "\n",
    "A função irá realizar todas as combinações, treinar o algoritmo e, ao final, informar qual configuração obteve a melhor acurácia."
   ]
  },
  {
   "cell_type": "code",
   "execution_count": 208,
   "metadata": {},
   "outputs": [],
   "source": [
    "def find_parameters(X, y, model, params, imprimir=True):\n",
    "    \"\"\"Função responsável por analisar os parâmetros do modelo.\"\"\"\n",
    "    \n",
    "    param_grid = ParameterGrid(params)\n",
    "    best_score = 0\n",
    "    best_params = None\n",
    "    best_clf = None\n",
    "    \n",
    "    print(\"Analisando ({}) combinações de parâmetros:\".format(len(param_grid)))\n",
    "    print(\"+----------------------------------------+\")\n",
    "    for params in param_grid:\n",
    "        model.set_params(**params)\n",
    "        clf = Classificador(X, y, model)\n",
    "        clf.treinar()\n",
    "        \n",
    "        # verifica se a acuracia é melhor que a atual.\n",
    "        if clf.scores.mean() > best_score:\n",
    "            best_score = clf.scores.mean()\n",
    "            best_params = params\n",
    "            best_clf = clf\n",
    "        \n",
    "        if imprimir:\n",
    "            print(\"Acurácia: {:.3f} (+/- {:.3f}) for {} \".format(clf.scores.mean(), clf.scores.std(), params))\n",
    "    \n",
    "    print(\"+----------------------------------------+\")\n",
    "    print(\"Melhor combinação: {}\".format(best_params))\n",
    "    return best_clf"
   ]
  },
  {
   "cell_type": "markdown",
   "metadata": {},
   "source": [
    "## 4. Experimentos\n",
    "\n",
    "Esta parte do documento relata os resultados inicial para cada algoritmo."
   ]
  },
  {
   "cell_type": "markdown",
   "metadata": {},
   "source": [
    "### 4.1. Naive Bayes\n",
    "\n",
    "**Tarefa:** Apenas um experimento para servir de baseline.\n",
    "\n",
    "Para esta tarefa foi utilizado o classificador `GaussianNB`. Não foi solicitado nenhuma análise de parâmetro."
   ]
  },
  {
   "cell_type": "code",
   "execution_count": 130,
   "metadata": {
    "scrolled": false
   },
   "outputs": [
    {
     "name": "stdout",
     "output_type": "stream",
     "text": [
      "Analisando (1) combinações de parâmetros:\n",
      "+----------------------------------------+\n",
      "Acurácia: 0.919 (+/- 0.0171) for {} \n",
      "+----------------------------------------+\n",
      "Melhor combinação: {}\n",
      "+--------+-----------+--------+----------+\n",
      "| # fold | Precision | Recall | F1-score |\n",
      "+--------+-----------+--------+----------+\n",
      "|   0    |   0.826   | 0.950  |  0.884   |\n",
      "|   1    |   0.831   | 0.971  |  0.896   |\n",
      "|   2    |   0.865   | 0.976  |  0.917   |\n",
      "|   3    |   0.888   | 0.995  |  0.938   |\n",
      "|   4    |   0.849   | 0.948  |  0.895   |\n",
      "| Média  |   0.852   | 0.968  |  0.906   |\n",
      "+--------+-----------+--------+----------+\n"
     ]
    },
    {
     "data": {
      "image/png": "[encoded data removed]",
      "text/plain": [
       "<Figure size 432x288 with 1 Axes>"
      ]
     },
     "metadata": {
      "needs_background": "light"
     },
     "output_type": "display_data"
    }
   ],
   "source": [
    "# Classificador\n",
    "gnb = GaussianNB()\n",
    "\n",
    "# Hiper-parametros\n",
    "params = {}\n",
    "\n",
    "# Melhor classificador\n",
    "gnb = find_parameters(X, y, gnb, params)\n",
    "\n",
    "# Estatisticas do melhor\n",
    "s = gnb.scores\n",
    "print(show_scores(s.precision, s.recall, s.f1, s.folds))\n",
    "\n",
    "# Curva ROC do melhor\n",
    "plt_roc(s.fpr, s.tpr, s.folds)"
   ]
  },
  {
   "cell_type": "markdown",
   "metadata": {},
   "source": [
    "O Naive Bayes obteve uma acurácia de aproximadamente 92%. Em termos gerais, o classificador mostrou uma boa performance para o problema em questão, sendo capaz de classificar corretamente quase todas as instâncias de teste.\n",
    "\n",
    "As medidas de precisão e revocação fornecem uma análise mais detalhada da performance do classificador.\n",
    "\n",
    "A precisão foi por volta de 85%, cerca de 15% dos planetas foram classificados como `CONFIRMED` quando na verdade eram `FALSE POSITIVE`.\n",
    "\n",
    "Por outro lado, a revocação de quase 97% sugere que o Naive Bayes conseguiu classificar bem casos onde o planeta era de fato `CONFIRMED`, estes resultados sugerem que o classificador possui uma alta sensibilidade aos casos positivos.\n",
    "\n",
    "Por fim, o F1-Score também foi calculado. Para este caso, devido a precisão de 85%, o F1-Score foi de 90%.\n",
    "\n",
    "Conforme será visto nos resultados abaixo, outros classificadores obtiveram uma precisão acima de 90%."
   ]
  },
  {
   "cell_type": "markdown",
   "metadata": {},
   "source": [
    "### 4.2. Decision Tree\n",
    "\n",
    "**Tarefa:** Variar a altura máxima da árvore (incluindo permitir altura ilimitada) e\n",
    "mostrar os resultados graficamente.\n",
    "\n",
    "Para esta tarefa foi utilizado o classificador `DecisionTreeClassifier`.\n",
    "\n",
    "Além da altura máxima da árvore (objetivo da tarefa), os seguintes parâmetros também foram avaliados:\n",
    "\n",
    "1. **max_depth** = {2, 4, 8, 16, 32, 64, **None**} - altura máxima da árvore. Em None, a árvore irá crescer de forma ilimitada.\n",
    "2. **criterion** = {entropy, **gini**} - medida de impureza\n",
    "3. **min_samples_split** = {**2**, 4, 8, 16, 32} - número mínimo de exemplos para ramificar um nó.\n",
    "4. **min_samples_leaf** = {**1**, 2, 3, 4} - número mínimo de exemplos para um nó ser uma folha.\n",
    "\n",
    "Os valores em **negrito** destacam valores default de cada hiperparâmetro do classificador.\n",
    "\n",
    "O objetivo deste experimento foi analisadar como diferentes combinações de hiperparâmetros produzem árvores distintas. \n"
   ]
  },
  {
   "cell_type": "code",
   "execution_count": 147,
   "metadata": {},
   "outputs": [
    {
     "name": "stdout",
     "output_type": "stream",
     "text": [
      "Analisando (200) combinações de parâmetros:\n",
      "+----------------------------------------+\n",
      "+----------------------------------------+\n",
      "Melhor combinação: {'criterion': 'entropy', 'max_depth': 8, 'min_samples_leaf': 3, 'min_samples_split': 32}\n",
      "Acurácia Média: 0.955\n",
      "Desvio Padrão: 0.012\n",
      "+--------+-----------+--------+----------+\n",
      "| # fold | Precision | Recall | F1-score |\n",
      "+--------+-----------+--------+----------+\n",
      "|   0    |   0.890   | 0.964  |  0.926   |\n",
      "|   1    |   0.943   | 0.948  |  0.945   |\n",
      "|   2    |   0.951   | 0.964  |  0.958   |\n",
      "|   3    |   0.947   | 0.981  |  0.964   |\n",
      "|   4    |   0.953   | 0.914  |  0.933   |\n",
      "| Média  |   0.937   | 0.954  |  0.945   |\n",
      "+--------+-----------+--------+----------+\n"
     ]
    },
    {
     "data": {
      "image/png": "[encoded data removed]",
      "text/plain": [
       "<Figure size 432x288 with 1 Axes>"
      ]
     },
     "metadata": {
      "needs_background": "light"
     },
     "output_type": "display_data"
    }
   ],
   "source": [
    "params = {\"max_depth\":[2, 4, 8, 16, None],\n",
    "          \"criterion\":[\"entropy\", \"gini\"],\n",
    "          \"min_samples_split\":[2, 4, 8, 16, 32],\n",
    "          \"min_samples_leaf\":[1, 2, 3, 4]}\n",
    "\n",
    "tree = DecisionTreeClassifier()\n",
    "\n",
    "# Melhor classificador\n",
    "tree = find_parameters(X, y, tree, params, False)\n",
    "\n",
    "# Estatisticas do melhor\n",
    "s = tree.scores\n",
    "print(\"Acurácia Média: {:.3f}\".format(np.mean(s.accuracy)))\n",
    "print(\"Desvio Padrão: {:.3f}\".format(np.std(s.accuracy)))\n",
    "print(show_scores(s.precision, s.recall, s.f1, s.folds))\n",
    "\n",
    "# Curva ROC do melhor\n",
    "plt_roc(s.fpr, s.tpr, s.folds)"
   ]
  },
  {
   "cell_type": "markdown",
   "metadata": {},
   "source": [
    "A árvore de decisão resultante pode ser visualizada abaixo com o auxílio da função **plot_tree**:"
   ]
  },
  {
   "cell_type": "code",
   "execution_count": 158,
   "metadata": {},
   "outputs": [
    {
     "data": {
      "image/png": "[encoded data removed]",
      "text/plain": [
       "<Figure size 432x288 with 1 Axes>"
      ]
     },
     "metadata": {
      "needs_background": "light"
     },
     "output_type": "display_data"
    }
   ],
   "source": [
    "feature_names = list(X.columns.values)\n",
    "class_names = tree.model.classes_\n",
    "\n",
    "plt.figure()\n",
    "plot_tree(tree.model,\n",
    "               feature_names=feature_names,\n",
    "               class_names=class_names,\n",
    "               filled=True, rounded=True) \n",
    "plt.show()"
   ]
  },
  {
   "cell_type": "markdown",
   "metadata": {},
   "source": [
    "Os resultados reportados apontam que a **melhor altura foi 8** (para os hiperparâmetros avaliados).\n",
    "\n",
    "A melhor árvore de decisão obteve uma **acurácia média de 95.50%** com um desvio padrão de 1.2%.\n",
    "\n",
    "Em relação ao Naive Bayes, é importante destacar o aprimoramento da precisão. Desta vez, o classificador obteve uma precisão de cerca de 93.70%. Houve uma melhora de quase 4% no F1-score.\n",
    "\n",
    "A altura máxima da árvore teve a maior influência no desempenho do classificador, porém o ajuste apropriado das políticas de ramificação da árvore e criação do nó folha trouxeram um certo aprimoramento. Com os valores default, a precisão diminiu em quase 1.2%."
   ]
  },
  {
   "cell_type": "code",
   "execution_count": 160,
   "metadata": {},
   "outputs": [
    {
     "name": "stdout",
     "output_type": "stream",
     "text": [
      "Analisando (1) combinações de parâmetros:\n",
      "+----------------------------------------+\n",
      "Acurácia: 0.951 (+/- 0.00923) for {'criterion': 'entropy', 'max_depth': 8} \n",
      "+----------------------------------------+\n",
      "Melhor combinação: {'criterion': 'entropy', 'max_depth': 8}\n",
      "+--------+-----------+--------+----------+\n",
      "| # fold | Precision | Recall | F1-score |\n",
      "+--------+-----------+--------+----------+\n",
      "|   0    |   0.892   | 0.979  |  0.933   |\n",
      "|   1    |   0.923   | 0.943  |  0.933   |\n",
      "|   2    |   0.923   | 0.971  |  0.947   |\n",
      "|   3    |   0.945   | 0.976  |  0.960   |\n",
      "|   4    |   0.948   | 0.912  |  0.930   |\n",
      "| Média  |   0.926   | 0.956  |  0.941   |\n",
      "+--------+-----------+--------+----------+\n"
     ]
    }
   ],
   "source": [
    "params = {\"max_depth\":[8],\n",
    "          \"criterion\":[\"entropy\"]}\n",
    "\n",
    "default = DecisionTreeClassifier()\n",
    "\n",
    "# classificador com alguns parâmetros default.\n",
    "default = find_parameters(X, y, default, params)\n",
    "s = default.scores\n",
    "print(show_scores(s.precision, s.recall, s.f1, s.folds))"
   ]
  },
  {
   "cell_type": "markdown",
   "metadata": {},
   "source": [
    "O próximo experimento analisou apenas a altura máxima da árvore.\n",
    "\n",
    "O valor da altura máxima foi variado de 2 à 20 (a altura máxima que a árvore atingiu quando **None**).\n",
    "\n",
    "Conforme os resultados relatados anteriormente, crescer a árvore indiscriminadamente não melhora a acurácia.\n",
    "\n",
    "A curva da acurácia cresce entre 2 e 6. Em seguida, a função estabiliza-se próximo a 95%."
   ]
  },
  {
   "cell_type": "code",
   "execution_count": 226,
   "metadata": {},
   "outputs": [
    {
     "data": {
      "image/png": "[encoded data removed]",
      "text/plain": [
       "<Figure size 432x288 with 1 Axes>"
      ]
     },
     "metadata": {
      "needs_background": "light"
     },
     "output_type": "display_data"
    }
   ],
   "source": [
    "params = {\"max_depth\":range(2, 21)}\n",
    "\n",
    "tree = DecisionTreeClassifier()\n",
    "\n",
    "plt_parametro(X, y, tree, params)"
   ]
  },
  {
   "cell_type": "markdown",
   "metadata": {},
   "source": [
    "Altura máxima igual a 2:"
   ]
  },
  {
   "cell_type": "code",
   "execution_count": 184,
   "metadata": {},
   "outputs": [
    {
     "name": "stdout",
     "output_type": "stream",
     "text": [
      "+--------+-----------+--------+----------+\n",
      "| # fold | Precision | Recall | F1-score |\n",
      "+--------+-----------+--------+----------+\n",
      "|   0    |   0.806   | 0.720  |  0.760   |\n",
      "|   1    |   0.796   | 0.760  |  0.778   |\n",
      "|   2    |   0.876   | 0.969  |  0.920   |\n",
      "|   3    |   0.887   | 0.893  |  0.890   |\n",
      "|   4    |   0.902   | 0.681  |  0.776   |\n",
      "| Média  |   0.853   | 0.805  |  0.825   |\n",
      "+--------+-----------+--------+----------+\n"
     ]
    }
   ],
   "source": [
    "tree = DecisionTreeClassifier(max_depth=2)\n",
    "tree = Classificador(X, y, tree)\n",
    "tree.treinar()\n",
    "\n",
    "s = tree.scores\n",
    "print(show_scores(s.precision, s.recall, s.f1, s.folds))"
   ]
  },
  {
   "cell_type": "markdown",
   "metadata": {},
   "source": [
    "Altura máxima igual a 5:"
   ]
  },
  {
   "cell_type": "code",
   "execution_count": 185,
   "metadata": {},
   "outputs": [
    {
     "name": "stdout",
     "output_type": "stream",
     "text": [
      "+--------+-----------+--------+----------+\n",
      "| # fold | Precision | Recall | F1-score |\n",
      "+--------+-----------+--------+----------+\n",
      "|   0    |   0.864   | 0.967  |  0.913   |\n",
      "|   1    |   0.918   | 0.962  |  0.940   |\n",
      "|   2    |   0.921   | 0.971  |  0.946   |\n",
      "|   3    |   0.942   | 0.971  |  0.957   |\n",
      "|   4    |   0.910   | 0.895  |  0.903   |\n",
      "| Média  |   0.911   | 0.953  |  0.931   |\n",
      "+--------+-----------+--------+----------+\n"
     ]
    }
   ],
   "source": [
    "tree = DecisionTreeClassifier(max_depth=5)\n",
    "tree = Classificador(X, y, tree)\n",
    "tree.treinar()\n",
    "\n",
    "s = tree.scores\n",
    "print(show_scores(s.precision, s.recall, s.f1, s.folds))"
   ]
  },
  {
   "cell_type": "markdown",
   "metadata": {},
   "source": [
    "Altura máxima igual a 8:"
   ]
  },
  {
   "cell_type": "code",
   "execution_count": 188,
   "metadata": {},
   "outputs": [
    {
     "name": "stdout",
     "output_type": "stream",
     "text": [
      "+--------+-----------+--------+----------+\n",
      "| # fold | Precision | Recall | F1-score |\n",
      "+--------+-----------+--------+----------+\n",
      "|   0    |   0.868   | 0.964  |  0.913   |\n",
      "|   1    |   0.926   | 0.955  |  0.940   |\n",
      "|   2    |   0.938   | 0.969  |  0.953   |\n",
      "|   3    |   0.958   | 0.971  |  0.965   |\n",
      "|   4    |   0.932   | 0.883  |  0.907   |\n",
      "| Média  |   0.924   | 0.949  |  0.936   |\n",
      "+--------+-----------+--------+----------+\n"
     ]
    }
   ],
   "source": [
    "tree = DecisionTreeClassifier(max_depth=8)\n",
    "tree = Classificador(X, y, tree)\n",
    "tree.treinar()\n",
    "\n",
    "s = tree.scores\n",
    "print(show_scores(s.precision, s.recall, s.f1, s.folds))"
   ]
  },
  {
   "cell_type": "markdown",
   "metadata": {},
   "source": [
    "Altura máxima permitida:"
   ]
  },
  {
   "cell_type": "code",
   "execution_count": 189,
   "metadata": {},
   "outputs": [
    {
     "name": "stdout",
     "output_type": "stream",
     "text": [
      "+--------+-----------+--------+----------+\n",
      "| # fold | Precision | Recall | F1-score |\n",
      "+--------+-----------+--------+----------+\n",
      "|   0    |   0.884   | 0.943  |  0.913   |\n",
      "|   1    |   0.936   | 0.943  |  0.940   |\n",
      "|   2    |   0.939   | 0.948  |  0.943   |\n",
      "|   3    |   0.957   | 0.962  |  0.960   |\n",
      "|   4    |   0.905   | 0.860  |  0.882   |\n",
      "| Média  |   0.924   | 0.931  |  0.927   |\n",
      "+--------+-----------+--------+----------+\n"
     ]
    }
   ],
   "source": [
    "tree = DecisionTreeClassifier(max_depth=None)\n",
    "tree = Classificador(X, y, tree)\n",
    "tree.treinar()\n",
    "\n",
    "s = tree.scores\n",
    "print(show_scores(s.precision, s.recall, s.f1, s.folds))"
   ]
  },
  {
   "cell_type": "markdown",
   "metadata": {},
   "source": [
    "### 4.3. SVM\n",
    "\n",
    "**Tarefa:** Avaliar os kernels linear, sigmoid, polinomial e RBF.\n",
    "\n",
    "Foi utilizado o classificador `SVC`, que implementa todos as funções kernels solicitados neste trabalho.\n",
    "\n",
    "Para esta tarefa, cada kernel foi devidamente avaliado com diferentes combinações de parâmetros.\n",
    "\n",
    "Em todos os experimentos: \n",
    "\n",
    "1. **probability** foi fixado em True. Este procedimento foi necessário para calcular a curva ROC.\n",
    "2. **C** = {0.01, 0.1, 1, 10, 100}. É um parâmetro de regularização, responsável por aplicar penalidades aos exemplos que ultrapassam a margem do SVM.\n",
    "\n",
    "Quando C é suficientemente grande (tendendo ao infinito), o SVM não irá permitir violações de margem.\n",
    "Este hiper-parâmetro possui um alto impacto na performance do algoritmo (acurácia e custo computacional). Por isso ele foi avaliado em todos os cenários.\n",
    "\n",
    "Além disso, cada função kernel possui hiper-parâmetros específicos que foram analisados.\n",
    "Os resultados serão relatados a seguir."
   ]
  },
  {
   "cell_type": "markdown",
   "metadata": {},
   "source": [
    "#### 4.3.1 Kernel Linear\n",
    "\n",
    "A primeira função kernel avaliada foi o kernel linear.\n",
    "\n",
    "Embora produza hipóteses mais simples, o kernel linear obteve resultados interessantes.\n",
    "\n",
    "Com o parâmetro C = 10, foi possível obter uma acurácia de 95.3%.\n",
    "\n",
    "Note que a precision e o recall também foram superiores a 90%."
   ]
  },
  {
   "cell_type": "code",
   "execution_count": 232,
   "metadata": {},
   "outputs": [
    {
     "name": "stdout",
     "output_type": "stream",
     "text": [
      "Analisando (5) combinações de parâmetros:\n",
      "+----------------------------------------+\n",
      "Acurácia: 0.927 (+/- 0.024) for {'C': 0.01, 'kernel': 'linear', 'probability': True} \n",
      "Acurácia: 0.942 (+/- 0.020) for {'C': 0.1, 'kernel': 'linear', 'probability': True} \n",
      "Acurácia: 0.950 (+/- 0.020) for {'C': 1, 'kernel': 'linear', 'probability': True} \n",
      "Acurácia: 0.953 (+/- 0.015) for {'C': 10, 'kernel': 'linear', 'probability': True} \n",
      "Acurácia: 0.953 (+/- 0.017) for {'C': 100, 'kernel': 'linear', 'probability': True} \n",
      "+----------------------------------------+\n",
      "Melhor combinação: {'C': 10, 'kernel': 'linear', 'probability': True}\n",
      "+--------+-----------+--------+----------+\n",
      "| # fold | Precision | Recall | F1-score |\n",
      "+--------+-----------+--------+----------+\n",
      "|   0    |   0.882   | 0.974  |  0.926   |\n",
      "|   1    |   0.936   | 0.974  |  0.955   |\n",
      "|   2    |   0.966   | 0.957  |  0.962   |\n",
      "|   3    |   0.948   | 0.962  |  0.955   |\n",
      "|   4    |   0.911   | 0.926  |  0.919   |\n",
      "| Média  |   0.929   | 0.959  |  0.943   |\n",
      "+--------+-----------+--------+----------+\n"
     ]
    },
    {
     "data": {
      "image/png": "[encoded data removed]",
      "text/plain": [
       "<Figure size 432x288 with 1 Axes>"
      ]
     },
     "metadata": {
      "needs_background": "light"
     },
     "output_type": "display_data"
    }
   ],
   "source": [
    "params = {\"C\":[0.01, 0.1, 1, 10, 100],\n",
    "          \"kernel\":[\"linear\"],\n",
    "          \"probability\":[True]}\n",
    "\n",
    "k_linear = SVC()\n",
    "\n",
    "# Melhor classificador\n",
    "k_linear = find_parameters(X, y, k_linear, params)\n",
    "\n",
    "# Estatisticas do melhor\n",
    "s = k_linear.scores\n",
    "print(show_scores(s.precision, s.recall, s.f1, s.folds))\n",
    "\n",
    "# Curva ROC do melhor\n",
    "plt_roc(s.fpr, s.tpr, s.folds)"
   ]
  },
  {
   "cell_type": "markdown",
   "metadata": {},
   "source": [
    "O gráfico a seguir mostra a acurácia média do cross-validation para diferentes valores de C.\n",
    "\n",
    "Aqui, foi incluído o C = 0.001.\n",
    "\n",
    "O parâmetro de regularização é um mecanismo importante para evitar que o modelo se ajuste excessivamente aos dados. Porém, o excesso de regularização pode produzir modelos extretamente simples, a ponto da hipótese se distanciar da função alvo.\n",
    "\n",
    "Esse problema será mais evidente no caso do kernel sigmoide."
   ]
  },
  {
   "cell_type": "code",
   "execution_count": 231,
   "metadata": {},
   "outputs": [
    {
     "data": {
      "image/png": "[encoded data removed]",
      "text/plain": [
       "<Figure size 432x288 with 1 Axes>"
      ]
     },
     "metadata": {
      "needs_background": "light"
     },
     "output_type": "display_data"
    }
   ],
   "source": [
    "params = {\"C\":[0.001, 0.01, 0.1, 1]}\n",
    "\n",
    "svm = SVC(kernel=\"linear\", probability = True)\n",
    "\n",
    "plt_parametro(X, y, svm, params)"
   ]
  },
  {
   "cell_type": "markdown",
   "metadata": {},
   "source": [
    "#### 4.3.2 Kernel Sigmoide"
   ]
  },
  {
   "cell_type": "markdown",
   "metadata": {},
   "source": [
    "Dentre as funcões avaliadas, o kernel sigmoide obteve os piores resultados.\n",
    "\n",
    "A melhor configuração obteve 87.2% de acurácia usando C = 0.1.\n",
    "\n",
    "A precisão do modelo também não foi tão, beirando aos 80%."
   ]
  },
  {
   "cell_type": "code",
   "execution_count": 234,
   "metadata": {},
   "outputs": [
    {
     "name": "stdout",
     "output_type": "stream",
     "text": [
      "Analisando (10) combinações de parâmetros:\n",
      "+----------------------------------------+\n",
      "Acurácia: 0.596 (+/- 0.000) for {'C': 0.001, 'gamma': 'scale', 'kernel': 'sigmoid', 'probability': True} \n",
      "Acurácia: 0.596 (+/- 0.000) for {'C': 0.001, 'gamma': 'auto', 'kernel': 'sigmoid', 'probability': True} \n",
      "Acurácia: 0.872 (+/- 0.036) for {'C': 0.1, 'gamma': 'scale', 'kernel': 'sigmoid', 'probability': True} \n",
      "Acurácia: 0.872 (+/- 0.036) for {'C': 0.1, 'gamma': 'auto', 'kernel': 'sigmoid', 'probability': True} \n",
      "Acurácia: 0.810 (+/- 0.047) for {'C': 1, 'gamma': 'scale', 'kernel': 'sigmoid', 'probability': True} \n",
      "Acurácia: 0.810 (+/- 0.047) for {'C': 1, 'gamma': 'auto', 'kernel': 'sigmoid', 'probability': True} \n",
      "Acurácia: 0.799 (+/- 0.046) for {'C': 10, 'gamma': 'scale', 'kernel': 'sigmoid', 'probability': True} \n",
      "Acurácia: 0.799 (+/- 0.046) for {'C': 10, 'gamma': 'auto', 'kernel': 'sigmoid', 'probability': True} \n",
      "Acurácia: 0.798 (+/- 0.048) for {'C': 100, 'gamma': 'scale', 'kernel': 'sigmoid', 'probability': True} \n",
      "Acurácia: 0.798 (+/- 0.048) for {'C': 100, 'gamma': 'auto', 'kernel': 'sigmoid', 'probability': True} \n",
      "+----------------------------------------+\n",
      "Melhor combinação: {'C': 0.1, 'gamma': 'scale', 'kernel': 'sigmoid', 'probability': True}\n",
      "+--------+-----------+--------+----------+\n",
      "| # fold | Precision | Recall | F1-score |\n",
      "+--------+-----------+--------+----------+\n",
      "|   0    |   0.750   | 0.957  |  0.841   |\n",
      "|   1    |   0.836   | 0.919  |  0.876   |\n",
      "|   2    |   0.846   | 0.929  |  0.886   |\n",
      "|   3    |   0.837   | 0.936  |  0.883   |\n",
      "|   4    |   0.732   | 0.831  |  0.778   |\n",
      "| Média  |   0.800   | 0.914  |  0.853   |\n",
      "+--------+-----------+--------+----------+\n"
     ]
    },
    {
     "data": {
      "image/png": "[encoded data removed]",
      "text/plain": [
       "<Figure size 432x288 with 1 Axes>"
      ]
     },
     "metadata": {
      "needs_background": "light"
     },
     "output_type": "display_data"
    }
   ],
   "source": [
    "params = {\"C\":[0.001, 0.1, 1, 10, 100],\n",
    "          \"kernel\":[\"sigmoid\"],\n",
    "          \"gamma\":[\"scale\", \"auto\"],\n",
    "          \"probability\":[True]}\n",
    "\n",
    "k_sigmoid = SVC()\n",
    "\n",
    "# Melhor classificador\n",
    "k_sigmoid = find_parameters(X, y, k_sigmoid, params)\n",
    "\n",
    "# Estatisticas do melhor\n",
    "s = k_sigmoid.scores\n",
    "print(show_scores(s.precision, s.recall, s.f1, s.folds))\n",
    "\n",
    "# Curva ROC do melhor\n",
    "plt_roc(s.fpr, s.tpr, s.folds)"
   ]
  },
  {
   "cell_type": "markdown",
   "metadata": {},
   "source": [
    "Quando C é muito pequeno, o classificador tende a cometer muitos erros de classificação. Isso acontece porque o classificador irá tolerar um grande número de violações de margem, levando a um ajuste inapropriado do limite de decisão.\n",
    "\n",
    "Os resultados obtidos para C = 0.001 sugerem que o classificador sofreu um **underfitting**, onde este está com uma acurácia um pouco maior que 50%."
   ]
  },
  {
   "cell_type": "code",
   "execution_count": 238,
   "metadata": {},
   "outputs": [
    {
     "data": {
      "image/png": "[encoded data removed]",
      "text/plain": [
       "<Figure size 432x288 with 1 Axes>"
      ]
     },
     "metadata": {
      "needs_background": "light"
     },
     "output_type": "display_data"
    }
   ],
   "source": [
    "params = {\"C\":[0.001, 0.01, 0.1, 1]}\n",
    "\n",
    "svm = SVC(kernel=\"sigmoid\", probability = True)\n",
    "\n",
    "plt_parametro(X, y, svm, params, 0.5)"
   ]
  },
  {
   "cell_type": "markdown",
   "metadata": {},
   "source": [
    "#### 4.3.3 Kernel Polinomial\n",
    "\n",
    "Para o kernel polinomial, foi avaliado o `degree` igual a 2 e 3.\n",
    "\n",
    "Destes, o grau 2 com C = 100 obteve o melhor resultado: quase 94% de acurácia."
   ]
  },
  {
   "cell_type": "code",
   "execution_count": 240,
   "metadata": {},
   "outputs": [
    {
     "name": "stdout",
     "output_type": "stream",
     "text": [
      "Analisando (20) combinações de parâmetros:\n",
      "+----------------------------------------+\n",
      "+----------------------------------------+\n",
      "Melhor combinação: {'C': 100, 'degree': 2, 'gamma': 'scale', 'kernel': 'poly', 'probability': True}\n",
      "Acurácia Média: 0.939\n",
      "Desvio Padrão: 0.017\n",
      "+--------+-----------+--------+----------+\n",
      "| # fold | Precision | Recall | F1-score |\n",
      "+--------+-----------+--------+----------+\n",
      "|   0    |   0.851   | 0.960  |  0.902   |\n",
      "|   1    |   0.924   | 0.950  |  0.937   |\n",
      "|   2    |   0.907   | 0.952  |  0.929   |\n",
      "|   3    |   0.941   | 0.976  |  0.958   |\n",
      "|   4    |   0.891   | 0.933  |  0.912   |\n",
      "| Média  |   0.903   | 0.954  |  0.928   |\n",
      "+--------+-----------+--------+----------+\n"
     ]
    },
    {
     "data": {
      "image/png": "[encoded data removed]",
      "text/plain": [
       "<Figure size 432x288 with 1 Axes>"
      ]
     },
     "metadata": {
      "needs_background": "light"
     },
     "output_type": "display_data"
    }
   ],
   "source": [
    "params = {\"C\":[0.01, 0.1, 1, 10, 100],\n",
    "          \"kernel\":[\"poly\"],\n",
    "          \"degree\":[2, 3],\n",
    "          \"gamma\":[\"scale\", \"auto\"],\n",
    "          \"probability\":[True]}\n",
    "\n",
    "k_poly = SVC()\n",
    "\n",
    "# Melhor classificador\n",
    "k_poly = find_parameters(X, y, k_poly, params, False)\n",
    "\n",
    "# Estatisticas do melhor\n",
    "s = k_poly.scores\n",
    "print(\"Acurácia Média: {:.3f}\".format(np.mean(s.accuracy)))\n",
    "print(\"Desvio Padrão: {:.3f}\".format(np.std(s.accuracy)))\n",
    "print(show_scores(s.precision, s.recall, s.f1, s.folds))\n",
    "\n",
    "# Curva ROC do melhor\n",
    "plt_roc(s.fpr, s.tpr, s.folds)"
   ]
  },
  {
   "cell_type": "markdown",
   "metadata": {},
   "source": [
    "Assim como no kernel sigmoid, o C = 0.001 trouxe o pior desempenho de classificação. Cerca de 60% de acurácia.\n",
    "\n",
    "Em contrapartida, o aumento do hiper-parâmetro C trouxe uma melhora considerável. Embora o sigmoide tenha ficado abaixo de 90%, o kernel polinomial teve uma acurácia quase 94% quando C = 100.\n",
    "\n",
    "Além disso, a precisão melhorou em 10%."
   ]
  },
  {
   "cell_type": "code",
   "execution_count": 245,
   "metadata": {},
   "outputs": [
    {
     "data": {
      "image/png": "[encoded data removed]",
      "text/plain": [
       "<Figure size 432x288 with 1 Axes>"
      ]
     },
     "metadata": {
      "needs_background": "light"
     },
     "output_type": "display_data"
    }
   ],
   "source": [
    "params = {\"C\":[0.001, 0.01, 0.1, 1, 100]}\n",
    "\n",
    "svm = SVC(kernel=\"poly\", degree=2, probability = True)\n",
    "\n",
    "plt_parametro(X, y, svm, params, 0.5)"
   ]
  },
  {
   "cell_type": "markdown",
   "metadata": {},
   "source": [
    "#### 4.3.4 Kernel RBF"
   ]
  },
  {
   "cell_type": "markdown",
   "metadata": {},
   "source": [
    "Por fim, o kernel RBF também foi analisado.\n",
    "\n",
    "Seus resultados seguiram a tendência do kernel linear e do polinomial, ficando em torno de 94%.\n",
    "\n",
    "Assim como no polinomial, o melhor resultado foi com C = 100."
   ]
  },
  {
   "cell_type": "code",
   "execution_count": 243,
   "metadata": {},
   "outputs": [
    {
     "name": "stdout",
     "output_type": "stream",
     "text": [
      "Analisando (10) combinações de parâmetros:\n",
      "+----------------------------------------+\n",
      "Acurácia: 0.891 (+/- 0.019) for {'C': 0.01, 'gamma': 'scale', 'kernel': 'rbf', 'probability': True} \n",
      "Acurácia: 0.891 (+/- 0.019) for {'C': 0.01, 'gamma': 'auto', 'kernel': 'rbf', 'probability': True} \n",
      "Acurácia: 0.918 (+/- 0.025) for {'C': 0.1, 'gamma': 'scale', 'kernel': 'rbf', 'probability': True} \n",
      "Acurácia: 0.918 (+/- 0.025) for {'C': 0.1, 'gamma': 'auto', 'kernel': 'rbf', 'probability': True} \n",
      "Acurácia: 0.935 (+/- 0.023) for {'C': 1, 'gamma': 'scale', 'kernel': 'rbf', 'probability': True} \n",
      "Acurácia: 0.935 (+/- 0.023) for {'C': 1, 'gamma': 'auto', 'kernel': 'rbf', 'probability': True} \n",
      "Acurácia: 0.943 (+/- 0.016) for {'C': 10, 'gamma': 'scale', 'kernel': 'rbf', 'probability': True} \n",
      "Acurácia: 0.943 (+/- 0.016) for {'C': 10, 'gamma': 'auto', 'kernel': 'rbf', 'probability': True} \n",
      "Acurácia: 0.947 (+/- 0.015) for {'C': 100, 'gamma': 'scale', 'kernel': 'rbf', 'probability': True} \n",
      "Acurácia: 0.947 (+/- 0.015) for {'C': 100, 'gamma': 'auto', 'kernel': 'rbf', 'probability': True} \n",
      "+----------------------------------------+\n",
      "Melhor combinação: {'C': 100, 'gamma': 'scale', 'kernel': 'rbf', 'probability': True}\n",
      "+--------+-----------+--------+----------+\n",
      "| # fold | Precision | Recall | F1-score |\n",
      "+--------+-----------+--------+----------+\n",
      "|   0    |   0.870   | 0.955  |  0.911   |\n",
      "|   1    |   0.929   | 0.962  |  0.945   |\n",
      "|   2    |   0.951   | 0.960  |  0.955   |\n",
      "|   3    |   0.957   | 0.943  |  0.950   |\n",
      "|   4    |   0.931   | 0.902  |  0.917   |\n",
      "| Média  |   0.927   | 0.944  |  0.935   |\n",
      "+--------+-----------+--------+----------+\n"
     ]
    },
    {
     "data": {
      "image/png": "[encoded data removed]",
      "text/plain": [
       "<Figure size 432x288 with 1 Axes>"
      ]
     },
     "metadata": {
      "needs_background": "light"
     },
     "output_type": "display_data"
    }
   ],
   "source": [
    "params = {\"C\":[0.01, 0.1, 1, 10, 100],\n",
    "          \"kernel\":[\"rbf\"],\n",
    "          \"gamma\":[\"scale\", \"auto\"],\n",
    "          \"probability\":[True]}\n",
    "\n",
    "k_rbf = SVC()\n",
    "\n",
    "# Melhor classificador\n",
    "k_rbf = find_parameters(X, y, k_rbf, params)\n",
    "\n",
    "# Estatisticas do melhor\n",
    "s = k_rbf.scores\n",
    "print(show_scores(s.precision, s.recall, s.f1, s.folds))\n",
    "\n",
    "# Curva ROC do melhor\n",
    "plt_roc(s.fpr, s.tpr, s.folds)"
   ]
  },
  {
   "cell_type": "code",
   "execution_count": 246,
   "metadata": {},
   "outputs": [
    {
     "data": {
      "image/png": "[encoded data removed]",
      "text/plain": [
       "<Figure size 432x288 with 1 Axes>"
      ]
     },
     "metadata": {
      "needs_background": "light"
     },
     "output_type": "display_data"
    }
   ],
   "source": [
    "params = {\"C\":[0.001, 0.01, 0.1, 100]}\n",
    "\n",
    "svm = SVC(kernel=\"rbf\", probability = True)\n",
    "\n",
    "plt_parametro(X, y, svm, params, 0.5)"
   ]
  },
  {
   "cell_type": "markdown",
   "metadata": {},
   "source": [
    "#### 4.3.5 Comparação\n",
    "\n",
    "Esta seção sumariza os principais resultados obtidos pelo SVM.\n",
    "\n",
    "O gráfico abaixo mostra a acurácia média obtida pela melhor combinação de parâmetros em cada função kernel."
   ]
  },
  {
   "cell_type": "code",
   "execution_count": 244,
   "metadata": {},
   "outputs": [
    {
     "data": {
      "image/png": "[encoded data removed]",
      "text/plain": [
       "<Figure size 432x288 with 1 Axes>"
      ]
     },
     "metadata": {
      "needs_background": "light"
     },
     "output_type": "display_data"
    }
   ],
   "source": [
    "fig, ax = plt.subplots()\n",
    "\n",
    "x = np.arange(4)\n",
    "\n",
    "# média\n",
    "results = []\n",
    "results.append(np.mean(k_linear.scores.mean()))\n",
    "results.append(np.mean(k_sigmoid.scores.mean()))\n",
    "results.append(np.mean(k_poly.scores.mean()))\n",
    "results.append(np.mean(k_rbf.scores.mean()))\n",
    "\n",
    "# desvio padrão\n",
    "error = []\n",
    "error.append(np.std(k_linear.scores.mean()))\n",
    "error.append(np.std(k_sigmoid.scores.mean()))\n",
    "error.append(np.std(k_poly.scores.mean()))\n",
    "error.append(np.std(k_rbf.scores.mean()))\n",
    "\n",
    "plt.bar(x, results, yerr=error, align='center', alpha=0.5, ecolor='black', capsize=10)\n",
    "plt.xticks(x, ('Linear', 'Sigmoid', 'Poly', 'RBF'))\n",
    "plt.ylabel('Acurácia média')\n",
    "plt.title(\"Comparação das funções kernel\")\n",
    "plt.show()\n"
   ]
  },
  {
   "cell_type": "markdown",
   "metadata": {},
   "source": [
    "Conforme relatado anteriormente:\n",
    "\n",
    "* O Kernel Sigmoide teve o pior desempenho.\n",
    "* Ao passo que o kernel linear teve o melhor (vencendo em todas as métricas avaliadas).\n",
    "* O hyper-parâmetro C foi melhor com 10 e 100.\n",
    "\n",
    "Este último resultado evidencia a importância de manter um bom balanço entre especificidade e generalização. Nos casos onde houve abuso da regularização, o classificador chegou próximo de errar métade dos exemplos.\n",
    "\n",
    "Kernel  | Acurácia | Precisão | Revocação | F1-Score\n",
    "---------  | ------ | ------ | ------ | ------\n",
    "Linear  | **95.30** | **92.90** | **95.90** | **94.30**\n",
    "Sigmoid | 87.20 | 80.00 | 91.40 | 85.30\n",
    "Poly    | 93.90 | 90.30 | 95.40 | 92.80\n",
    "RBF     | 94.70 | 92.70 | 94.40 | 93.50 "
   ]
  },
  {
   "cell_type": "markdown",
   "metadata": {},
   "source": [
    "#### 4.4. k-NN\n",
    "\n",
    "O objetivo deste experimento foi avaliar o desepenho do **k-NN** na tarefa de classificação dos exoplanetas, para tal, o número **k** de vizinhos foi variado em {1, 2, 3, ..., 15}.\n",
    "O algoritmo foi testado com as seguintes métricas de distâncias:\n",
    "\n",
    "1. euclideana\n",
    "2. manhattan\n",
    "3. chebyshev e\n",
    "4. minkowski\n",
    "\n",
    "Destas, a distância de xxx obteve o melhor desempenho."
   ]
  },
  {
   "cell_type": "code",
   "execution_count": null,
   "metadata": {},
   "outputs": [],
   "source": [
    "from sklearn.neighbors import KNeighborsClassifier\n",
    "\n",
    "# parametros avaliados\n",
    "params = {\"n_neighbors\":range(1,40)\n",
    "          #\"metric\":[\"euclidean\", \"manhattan\", \"chebyshev\"]\n",
    "         }\n",
    "\n",
    "knn_classifier = KNeighborsClassifier()\n",
    "\n",
    "plt_parametro(X, y, knn_classifier, params)\n",
    "\n",
    "# k = range(1,15)\n",
    "\n",
    "# estatistica = Estatistica(k)\n",
    "\n",
    "# for i in k:\n",
    "#     knn_classifier = KNeighborsClassifier(n_neighbors=i)\n",
    "\n",
    "#     # separa os dados em k-folds (5)\n",
    "#     score = treinamento(X, y, 5, knn_classifier)\n",
    "#     estatistica.adicionar(score[0], score[1])\n",
    "        \n",
    "        \n",
    "# estatistica.plotar(\"k\", \"Acurácia\")"
   ]
  },
  {
   "cell_type": "markdown",
   "metadata": {},
   "source": [
    "#### 4.5. Random Forest\n",
    "\n",
    "Variar o número de árvores e mostrar os resultados graficamente."
   ]
  },
  {
   "cell_type": "code",
   "execution_count": null,
   "metadata": {},
   "outputs": [],
   "source": [
    "from sklearn.ensemble import RandomForestClassifier\n",
    "\n",
    "k = range(1,15)\n",
    "\n",
    "estatistica = Estatistica(k)\n",
    "\n",
    "for i in k:\n",
    "    knn_classifier = KNeighborsClassifier(n_neighbors=i)\n",
    "\n",
    "    # separa os dados em k-folds (5)\n",
    "    score = treinamento(X, y, 5, knn_classifier)\n",
    "    estatistica.adicionar(score[0], score[1])\n",
    "        \n",
    "        \n",
    "estatistica.plotar(\"k\", \"Acurácia\")"
   ]
  },
  {
   "cell_type": "markdown",
   "metadata": {},
   "source": [
    "#### 4.6. Gradient Tree Boosting\n",
    "\n",
    "Variar o número de iterações e mostrar os resultados graficamente."
   ]
  },
  {
   "cell_type": "code",
   "execution_count": null,
   "metadata": {},
   "outputs": [],
   "source": []
  },
  {
   "cell_type": "markdown",
   "metadata": {},
   "source": [
    "### 5. Resultados Finais\n",
    "\n",
    "Após treinar cada algoritmo e realizar "
   ]
  },
  {
   "cell_type": "code",
   "execution_count": null,
   "metadata": {},
   "outputs": [],
   "source": []
  }
 ],
 "metadata": {
  "kernelspec": {
   "display_name": "Python 3",
   "language": "python",
   "name": "python3"
  },
  "language_info": {
   "codemirror_mode": {
    "name": "ipython",
    "version": 3
   },
   "file_extension": ".py",
   "mimetype": "text/x-python",
   "name": "python",
   "nbconvert_exporter": "python",
   "pygments_lexer": "ipython3",
   "version": "3.6.9"
  }
 },
 "nbformat": 4,
 "nbformat_minor": 4
}
