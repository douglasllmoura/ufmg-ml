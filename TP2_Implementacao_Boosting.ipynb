{
 "cells": [
  {
   "cell_type": "markdown",
   "metadata": {},
   "source": [
    "**Aluno:** Douglas Leite Leal Moura\n",
    "\n",
    "**Matrícula:** 2020715184\n",
    "\n",
    "**Trabalho Prático II - Machine Learning**\n",
    "\n",
    "_Implementação do Algoritmo de Boosting_"
   ]
  },
  {
   "cell_type": "markdown",
   "metadata": {},
   "source": [
    "## 1. Introdução\n",
    "\n",
    "### 1.1 Objetivo\n",
    "\n",
    "Nosso foco neste trabalho prático é ganhar experiência com o processo de Boosting. Você deverá implementar o processo de Boosting (visto em sala de aula) assumindo um problema de classificação binária com atributos categóricos. Em particular, você deverá realizar os experimentos utilizando o dataset tic-tac-toe, disponível em https://archive.ics.uci.edu/ml/datasets/Tic-Tac-Toe+Endgame.\n",
    "\n",
    "Sua avaliação deverá seguir a metodologia de validação cruzada com 5 partições. A medida de eficácia a ser considerada é a taxa de erro simples. Você deverá implementar todo o processo de Boosting, e portanto não é permitido utilizar soluções prontas (embora não seja necessário implementar funções básicas).\n",
    "\n",
    "A escolha da linguagem de programação é uma decisão do aluno.\n",
    "\n",
    "### 1.2 Instruções\n",
    "\n",
    "Este trabalho utiliza a bibliteca scikit-learn da linguagem Python (versão 3.6).\n",
    "\n",
    "O ambiente virtual pode ser configurado mediante a execução dos seguintes comandos no terminal:\n",
    "\n",
    "$ virtualenv -p python3 .env\n",
    "\n",
    "$ source .env/bin/activate\n",
    "\n",
    "$ pip install -r requirements.txt\n",
    "\n",
    "A sequência de comandos abaixo faz os imports necessários para a execução dos experimentos:\n"
   ]
  },
  {
   "cell_type": "code",
   "execution_count": 1,
   "metadata": {},
   "outputs": [],
   "source": [
    "import math\n",
    "import matplotlib.pyplot as plt\n",
    "import numpy as np\n",
    "import pandas as pd\n",
    "import random\n",
    "\n",
    "from sklearn.base import ClassifierMixin\n",
    "from sklearn.metrics import accuracy_score\n",
    "from sklearn.metrics import auc\n",
    "from sklearn.metrics import f1_score\n",
    "from sklearn.metrics import precision_score\n",
    "from sklearn.metrics import recall_score\n",
    "from sklearn.model_selection import train_test_split\n",
    "from sklearn.model_selection import StratifiedKFold\n",
    "from sklearn.preprocessing import OneHotEncoder\n",
    "from sklearn.utils.multiclass import unique_labels"
   ]
  },
  {
   "cell_type": "markdown",
   "metadata": {},
   "source": [
    "## 2. Conjunto de dados\n",
    "\n",
    "O conjunto de dados foi importado utilizando Pandas, uma poderosa biblioteca Python criada para a manipulação e análise de dados.\n",
    "\n",
    "O conjunto de dados é constituído por `958 exemplos` com `9 atributos`, que descrevem possíveis configurações de um tabuleiro de jogo da velha:\n",
    "\n",
    "1. top-left-square: {x,o,b}\n",
    "2. top-middle-square: {x,o,b}\n",
    "3. top-right-square: {x,o,b}\n",
    "4. middle-left-square: {x,o,b}\n",
    "5. middle-middle-square: {x,o,b}\n",
    "6. middle-right-square: {x,o,b}\n",
    "7. bottom-left-square: {x,o,b}\n",
    "8. bottom-middle-square: {x,o,b}\n",
    "9. bottom-right-square: {x,o,b}\n",
    "10. **Class: {positive,negative}**\n",
    "\n",
    "Cada atributo indica a jogada realizada em um determinada posição do tabuleiro, que pode assumir 3 valores (`x`, `o` ou `b`). Por exemplo, o atributo indicado pela coluna `0` é o quadrado situado na esquerda superior do tabuleiro e o valor `x` indica que a jogada foi realizado pelo jogador `x`. Além disso, se ninguém jogou naquela posição, a posição estará em branco (b).\n",
    "\n",
    "A classe (coluna 9) indica se o jogador x (positive) venceu ou perdeu (negative).\n",
    "\n",
    "Desta forma, esta tarefa de classificação visa predizer se o jogador x venceu ou perdeu a partida de acordo com a configuração final do tabuleiro.\n",
    "\n",
    "A base de dados pode ser obtida diretamente através da URL:"
   ]
  },
  {
   "cell_type": "code",
   "execution_count": 2,
   "metadata": {},
   "outputs": [
    {
     "data": {
      "text/html": [
       "<div>\n",
       "<style scoped>\n",
       "    .dataframe tbody tr th:only-of-type {\n",
       "        vertical-align: middle;\n",
       "    }\n",
       "\n",
       "    .dataframe tbody tr th {\n",
       "        vertical-align: top;\n",
       "    }\n",
       "\n",
       "    .dataframe thead th {\n",
       "        text-align: right;\n",
       "    }\n",
       "</style>\n",
       "<table border=\"1\" class=\"dataframe\">\n",
       "  <thead>\n",
       "    <tr style=\"text-align: right;\">\n",
       "      <th></th>\n",
       "      <th>0</th>\n",
       "      <th>1</th>\n",
       "      <th>2</th>\n",
       "      <th>3</th>\n",
       "      <th>4</th>\n",
       "      <th>5</th>\n",
       "      <th>6</th>\n",
       "      <th>7</th>\n",
       "      <th>8</th>\n",
       "      <th>9</th>\n",
       "    </tr>\n",
       "  </thead>\n",
       "  <tbody>\n",
       "    <tr>\n",
       "      <th>0</th>\n",
       "      <td>x</td>\n",
       "      <td>x</td>\n",
       "      <td>x</td>\n",
       "      <td>x</td>\n",
       "      <td>o</td>\n",
       "      <td>o</td>\n",
       "      <td>x</td>\n",
       "      <td>o</td>\n",
       "      <td>o</td>\n",
       "      <td>positive</td>\n",
       "    </tr>\n",
       "    <tr>\n",
       "      <th>1</th>\n",
       "      <td>x</td>\n",
       "      <td>x</td>\n",
       "      <td>x</td>\n",
       "      <td>x</td>\n",
       "      <td>o</td>\n",
       "      <td>o</td>\n",
       "      <td>o</td>\n",
       "      <td>x</td>\n",
       "      <td>o</td>\n",
       "      <td>positive</td>\n",
       "    </tr>\n",
       "    <tr>\n",
       "      <th>2</th>\n",
       "      <td>x</td>\n",
       "      <td>x</td>\n",
       "      <td>x</td>\n",
       "      <td>x</td>\n",
       "      <td>o</td>\n",
       "      <td>o</td>\n",
       "      <td>o</td>\n",
       "      <td>o</td>\n",
       "      <td>x</td>\n",
       "      <td>positive</td>\n",
       "    </tr>\n",
       "    <tr>\n",
       "      <th>3</th>\n",
       "      <td>x</td>\n",
       "      <td>x</td>\n",
       "      <td>x</td>\n",
       "      <td>x</td>\n",
       "      <td>o</td>\n",
       "      <td>o</td>\n",
       "      <td>o</td>\n",
       "      <td>b</td>\n",
       "      <td>b</td>\n",
       "      <td>positive</td>\n",
       "    </tr>\n",
       "    <tr>\n",
       "      <th>4</th>\n",
       "      <td>x</td>\n",
       "      <td>x</td>\n",
       "      <td>x</td>\n",
       "      <td>x</td>\n",
       "      <td>o</td>\n",
       "      <td>o</td>\n",
       "      <td>b</td>\n",
       "      <td>o</td>\n",
       "      <td>b</td>\n",
       "      <td>positive</td>\n",
       "    </tr>\n",
       "  </tbody>\n",
       "</table>\n",
       "</div>"
      ],
      "text/plain": [
       "   0  1  2  3  4  5  6  7  8         9\n",
       "0  x  x  x  x  o  o  x  o  o  positive\n",
       "1  x  x  x  x  o  o  o  x  o  positive\n",
       "2  x  x  x  x  o  o  o  o  x  positive\n",
       "3  x  x  x  x  o  o  o  b  b  positive\n",
       "4  x  x  x  x  o  o  b  o  b  positive"
      ]
     },
     "execution_count": 2,
     "metadata": {},
     "output_type": "execute_result"
    }
   ],
   "source": [
    "DATA_URL = \"https://archive.ics.uci.edu/ml/machine-learning-databases/tic-tac-toe/tic-tac-toe.data\"\n",
    "\n",
    "data = pd.read_csv(DATA_URL, header=None)\n",
    "\n",
    "# exibe as 5 primeiras linhas do conjunto de dados\n",
    "data.head()"
   ]
  },
  {
   "cell_type": "markdown",
   "metadata": {},
   "source": [
    "Em seguida, a função `data.info()` foi utilizada para verificar a presença de dados ausentes. A função revelou que não havia dandos ausentes no conjunto de dados.\n",
    "\n",
    "Sendo assim, não houve necessidade de adotar procedimentos para preencher os dados ausentes."
   ]
  },
  {
   "cell_type": "code",
   "execution_count": 3,
   "metadata": {},
   "outputs": [
    {
     "name": "stdout",
     "output_type": "stream",
     "text": [
      "<class 'pandas.core.frame.DataFrame'>\n",
      "RangeIndex: 958 entries, 0 to 957\n",
      "Data columns (total 10 columns):\n",
      " #   Column  Non-Null Count  Dtype \n",
      "---  ------  --------------  ----- \n",
      " 0   0       958 non-null    object\n",
      " 1   1       958 non-null    object\n",
      " 2   2       958 non-null    object\n",
      " 3   3       958 non-null    object\n",
      " 4   4       958 non-null    object\n",
      " 5   5       958 non-null    object\n",
      " 6   6       958 non-null    object\n",
      " 7   7       958 non-null    object\n",
      " 8   8       958 non-null    object\n",
      " 9   9       958 non-null    object\n",
      "dtypes: object(10)\n",
      "memory usage: 75.0+ KB\n"
     ]
    }
   ],
   "source": [
    "data.info()"
   ]
  },
  {
   "cell_type": "markdown",
   "metadata": {},
   "source": [
    "Uma vez que a coluna 9 é o atributo de classe que queremos predizer, ela foi separada do conjunto de dados.\n",
    "\n",
    "O `one-hot encoder` foi utilizado para transformar os dados categóricos em dados numéricos (atributos de 0 e 1).\n",
    "\n",
    "Muitos algoritmos de machine learning exigem esse procedimento antes de trabalharem com os dados.\n",
    "\n",
    "A implementação do Ada boosting neste trabalho prevê dados categóricos e funciona mesmo quando o one-hot enconder não for utilizado.  "
   ]
  },
  {
   "cell_type": "code",
   "execution_count": 4,
   "metadata": {},
   "outputs": [],
   "source": [
    "# remove a coluna 9, pois ele e a classe que queremos predizer.\n",
    "X = data.drop(9, axis=1)\n",
    "y = data[9].copy()\n",
    "\n",
    "# one-hot encoder\n",
    "encoder = OneHotEncoder()\n",
    "X = encoder.fit_transform(X).toarray()\n",
    "\n",
    "# separa em treino e teste.\n",
    "X_train, X_test, y_train, y_test = train_test_split(X, y, test_size=0.3, random_state=123, shuffle=True)"
   ]
  },
  {
   "cell_type": "markdown",
   "metadata": {},
   "source": [
    "Além disso, os dados foram separados em treino e teste a fim de permitir a devida validação dos experimentos. Para tal, foi utilizado 70% dos dados para treinamento e 30% para teste.\n",
    "\n",
    "Durante o treinamento, buscou-se analisar diferentes combinações de parâmetros. A análise do melhor conjunto de parâmetros foi feita mediante a validação cruzada com 5 folds, que em seguida foi avaliado no conjunto de teste. Deste modo, foi possível obter uma acurácia mais precisa dos modelos avaliados.\n",
    "\n",
    "Ademais, a distribuição de classes mostra que a base de dados é desbalanceada, onde cerca de 65.3% dos exemplos são da classe positive (vitória do jogador x). Por isso, métricas de precisão, revocação e f1 também foram utilizadas em conjunto com a acurácia e a `taxa de erro simples`."
   ]
  },
  {
   "cell_type": "code",
   "execution_count": 5,
   "metadata": {},
   "outputs": [
    {
     "data": {
      "image/png": "[encoded data removed]",
      "text/plain": [
       "<Figure size 432x288 with 1 Axes>"
      ]
     },
     "metadata": {
      "needs_background": "light"
     },
     "output_type": "display_data"
    }
   ],
   "source": [
    "# plota um histograma da distribuição de y.\n",
    "plt.hist(y, bins=3)\n",
    "plt.ylabel('Número de exemplos')\n",
    "plt.show()"
   ]
  },
  {
   "cell_type": "markdown",
   "metadata": {},
   "source": [
    "## 3. Implementação\n",
    "\n",
    "A biblioteca Sklearn fornece um framework para auxiliar na construção de classificadores personalizados. Usando a classe `ClassifierMixin` como base, foi possível implementar um novo classificador e utilizar recursos já implementados no sklearn, como os métodos de avaliação de desempenho (acurácia, taxa de erro etc).\n",
    "\n",
    "A implementação do método de boosting utilizou árvores `stumps` como classificadores fracos.\n",
    "Deste modo, foram implementados os dois classificadores.\n",
    "\n",
    "No geral, a construção dos classificadores exigiu a herança do `ClassifierMixin` e a implementação de alguns métodos, como fit, predict e o construtor.\n",
    "\n",
    "A seguir, são relatados os detalhes de cada implementação.\n",
    "\n",
    "### 3.1 Árvore Stump\n",
    "\n",
    "Similar a uma árvore de decisão de profundidade 1, o stump irá realizar apenas uma única verificação a fim de predizer a classe de x.\n",
    "\n",
    "O Stump recebe como entrada o valor a ser verificado e a feature.\n",
    "\n",
    "Ademais, o stump também permite predizer todos os exemplos como positivo ou como negativo."
   ]
  },
  {
   "cell_type": "code",
   "execution_count": 6,
   "metadata": {},
   "outputs": [],
   "source": [
    "class Stump(ClassifierMixin):\n",
    "    \"\"\"Implementação da decision stump.\"\"\"\n",
    "    \n",
    "    def __init__(self, value, feature=None):\n",
    "        self.value   = value   # valor a ser comparado\n",
    "        self.feature = feature # feature para o split\n",
    "        \n",
    "    def __repr__(self):\n",
    "         return \"Feature {} = Valor {}\".format(self.feature, self.value)\n",
    "        \n",
    "    def is_value(self, x):\n",
    "        \"\"\"Verifica o valor do dado e indica a classe.\"\"\"\n",
    "        \n",
    "        if self.feature != None:\n",
    "            return ('positive' if x[self.feature] == self.value else 'negative')\n",
    "        \n",
    "        return self.value\n",
    "    \n",
    "    def predict(self, X):\n",
    "        \"\"\"Recebe um conjunto de exemplos e fornece a predição.\"\"\"\n",
    "        \n",
    "        return([self.is_value(x) for x in X])"
   ]
  },
  {
   "cell_type": "markdown",
   "metadata": {},
   "source": [
    "A função `generate_stumps` será utilizada no boosting para gerar todos os stumps possíveis.\n",
    "\n",
    "Uma vez que o tratamento dos dados incluiu o one-hot encoder, cada atributo produziu 3 atributos. \n",
    "Ou seja, se o atributo $i$ possui (x), (o) e (b) como valores possíveis, então 3 atributos serão produzidos para representar $i$:\n",
    "\n",
    "* 0, 0, 1 para representar o valor (x)\n",
    "* 0, 1, 0 para representar o valor (o)\n",
    "* 1, 0, 0 para representar o valor (b)\n",
    "\n",
    "Tendo em vista que o dataset possui 9 atributos, teremos $9 \\times 3 = 27$ atributos.\n",
    "\n",
    "Cada atributo será avaliado com seus dois valores possíveis:\n",
    "\n",
    "1. Atributo $i$ tem valor 1? se sim então prediz a classe `positive`, senão prediz como classe `negative`.\n",
    "2. Atributo $i$ tem valor 0? se sim então prediz a classe `positive`, senão prediz como classe `negative`.\n",
    "\n",
    "Teremos então $27 \\times 2 = 54$ stumps para cada combinação atributo-valor.\n",
    "\n",
    "Além disso, mais dois stumps adicionais são criados:\n",
    "\n",
    "1. Assume todos os exemplos como `positive`.\n",
    "2. Assume todos os exemplos como `negative`.\n",
    "\n",
    "Assim, `generate_stumps` irá produzir **56 stumps**. Conforme relatado anteriormente, a solução suporta dados categóricos, por isso é capaz de operar mesmo sem o one-hot enconder, resultando em 29 stumps."
   ]
  },
  {
   "cell_type": "code",
   "execution_count": 7,
   "metadata": {},
   "outputs": [],
   "source": [
    "def generate_stumps(X, y):\n",
    "    \"\"\"Funcao responsavel por gerar todas as combinacoes de stumps.\"\"\"\n",
    "        \n",
    "    stumps = [] # lista de stumps.\n",
    "         \n",
    "    classes = unique_labels(y)\n",
    "        \n",
    "    for i in range(X.shape[1]):\n",
    "        values = np.unique(X[i])\n",
    "            \n",
    "        for j in values:\n",
    "            stump = Stump(j, i)\n",
    "            stumps.append(stump)\n",
    "        \n",
    "    # Gera os stumps para cada valor de classe.\n",
    "    for j in classes:\n",
    "        stump = Stump(j)\n",
    "        stumps.append(stump)\n",
    "            \n",
    "    return stumps"
   ]
  },
  {
   "cell_type": "markdown",
   "metadata": {},
   "source": [
    "### 3.2 Boosting\n",
    "\n",
    "Finalmente, a classe `Boosting` implementa o algoritmo AdaBoost com árvores stumps.\n",
    "\n",
    "O modelo proposto neste trabalho baseou-se na implementação do boosting apresentada em sala de aula.\n",
    "\n",
    "O algoritmo recebe como entrada o número máximo de iterações, onde cada iteração $t$ irá produzir um preditor $h_t$:\n",
    "\n",
    "h*(X) = $\\alpha_1 \\times h(X)_1$ + $\\alpha_2 \\times h(X)_2$ + ... + $\\alpha_n \\times h(X)_n$\n",
    "\n",
    "A classe de X será dada pela soma ponderada por $\\alpha$ das classificações, deste modo o preditor com o maior valor $\\alpha$ associado será o preditor de maior importância durante a predição.\n",
    "\n",
    "Em cada iteração, o preditor que minimiza o erro ponderado será selecionado:\n",
    "\n",
    "$e_t = \\sum_{i = 1}^{n} w_t^{(i)} \\qquad \\forall {h_t(i) \\neq y(i)}$\n",
    "\n",
    "Onde o erro $e_t$ na iteração $t$ será dado pela soma dos pesos $w_i$ do i-éssimo exemplo com erro de classificação.\n",
    "\n",
    "Logo em seguida, o $\\alpha$ da iteração t será atualizado pela regra:\n",
    "\n",
    "$\\alpha_t = \\frac{1}{2} log \\frac{1 - e_t}{e_t}$\n",
    "\n",
    "Embora os pesos sejam iniciados com valor $1/n$, eles também passam por uma atualização após cada iteração:\n",
    "\n",
    "$w_{t+1} = \\frac{w_t}{z} \\times e^{-\\alpha_t \\cdot h_t(x) \\cdot y(x)}$\n",
    "\n",
    "**Uma decisão de implementação foi a aceitação de stumps previamente selecionados.** Constatou-se uma melhora significativa quando o número de stumps foi superior a 56.\n",
    "\n",
    "Por exemplo, selecionando apenas stumps não-selecionados, a acurácia obtida foi por volta de 75%.\n",
    "Porém, ao permitir que um stump seja novamente selecionado (com outro valor de $\\alpha$) a acurácia aumentou para 98% com 300 iterações."
   ]
  },
  {
   "cell_type": "code",
   "execution_count": 8,
   "metadata": {},
   "outputs": [],
   "source": [
    "class Boosting(ClassifierMixin):\n",
    "    \"\"\"Implementação do boosting.\"\"\"\n",
    "    \n",
    "    def __init__(self, max_it=56, repeat=True):\n",
    "        self.max_it = max_it # numero maximo de iteracoes\n",
    "        self.repeat = repeat # indica se os stumps serão repetidos\n",
    "        \n",
    "    def get_params(self, deep=True):\n",
    "        return {\"max_it\": self.max_it, \"repeat\": repeat}\n",
    "    \n",
    "    def fit(self, X, y):\n",
    "        \"\"\"Metodo responsavel por treinar o modelo.\"\"\"\n",
    "        \n",
    "        n, m    = X.shape               # Dimensao de X\n",
    "        stumps  = generate_stumps(X, y) # Gera todos os stumps\n",
    "        weights = np.repeat(1.0/n, n)   # Pesos dos exemplos inicializados com 1/n.\n",
    "\n",
    "        self.ensemble = [] # stump na iteracao t\n",
    "        self.alpha    = [] # alpha na iteracao t\n",
    "        self.error    = [] # erro na iteracao t\n",
    "        \n",
    "        for t in range(self.max_it):\n",
    "            \n",
    "            error = np.repeat(0.0, len(stumps)) # Erro empirico de cada modelo.\n",
    "            \n",
    "            # Seleciona o modelo h_i que minimize o erro empirico.\n",
    "            for i in range(len(stumps)):\n",
    "                \n",
    "                prediction = stumps[i].predict(X)\n",
    "                for j, prediction_, y_ in zip(range(n), prediction, y):\n",
    "                    if prediction_ != y_:\n",
    "                        error[i] += weights[j]\n",
    "                \n",
    "            h = min(range(len(error)), key=error.__getitem__) # index do stump.\n",
    "            \n",
    "            alpha = 1/2.0 * np.log((1.0 - error[h])/error[h]) # Calculo da importancia dos stumps.\n",
    "            \n",
    "            # Atualizacao dos pesos.\n",
    "            prediction = stumps[h].predict(X)\n",
    "            for j, prediction_, y_ in zip(range(n), prediction, y):\n",
    "                \n",
    "                if prediction_ != y_:\n",
    "                    weights[j] = weights[j] * math.e **alpha  # Errado: expoente positivo\n",
    "                else:\n",
    "                    weights[j] = weights[j] * math.e **-alpha # correto: expoente negativo\n",
    "            \n",
    "            weights = weights/np.sum(weights) # Fator de normalizacao.\n",
    "            \n",
    "            if self.repeat:\n",
    "                self.ensemble.append(stumps[h]) # caso deseje repetir stumps\n",
    "            else:\n",
    "                self.ensemble.append(stumps.pop(h)) # caso deseje selecionar 1 vez\n",
    "                \n",
    "            self.alpha.append(alpha)\n",
    "            self.error.append(error[h])\n",
    "                        \n",
    "        return self\n",
    "    \n",
    "    def sign(self, x):\n",
    "        \"\"\"Metodo responsavel por avaliar os preditores.\"\"\"\n",
    "        positive = 0.0\n",
    "        negative = 0.0\n",
    "         \n",
    "        for i in range(len(self.ensemble)):\n",
    "            if self.ensemble[i].predict([x])[0] == 'positive':\n",
    "                positive += self.alpha[i]\n",
    "            else:\n",
    "                negative += self.alpha[i]        \n",
    "        \n",
    "        return 'positive' if positive >= negative else 'negative'\n",
    "        \n",
    "    def predict(self, X):\n",
    "        \"\"\"Metodo responsavel por predizer a classe de X.\"\"\"\n",
    "                \n",
    "        return [ self.sign(x) for x in X ]"
   ]
  },
  {
   "cell_type": "markdown",
   "metadata": {},
   "source": [
    "### 3.3 Funções Auxiliares\n",
    "\n",
    "A classe `Results` foi criada a fim de facilitar o processo de visualização dos resultados.\n",
    "\n",
    "Esta classe irá armazenar os erros obtidos pelo classificador e ao final irá plotar um gráfico contendo a taxa de erro durante o treinamento (média de cada k-fold) e o teste. A curva do gráfico contém a média obtida no treinamento de cada kfold juntamente com o desvio padrão.\n",
    "\n",
    "Ademais, também foi analisado o erro obtido em cada iteração $e_t$ (erro ponderado)."
   ]
  },
  {
   "cell_type": "code",
   "execution_count": 9,
   "metadata": {},
   "outputs": [],
   "source": [
    "class Results(object):\n",
    "    \n",
    "    def __init__(self):\n",
    "        self.erro_mean     = [] # Media da taxa de erro\n",
    "        self.erro_std      = [] # Desvio padrao da taxa de erro\n",
    "        self.weighted_mean = [] # Media do erro ponderado\n",
    "        self.weighted_std  = [] # Desvio padrao do erro ponderado\n",
    "        \n",
    "    def plot_erro(self, x, teste):\n",
    "        \"\"\"Plota um grafico contendo os resultados\"\"\"\n",
    "        \n",
    "        plt.figure()\n",
    "        mean = np.array(self.erro_mean)\n",
    "        std = np.array(self.erro_std)\n",
    "        plt.plot(x, mean, label=\"Erro no treino\")\n",
    "        plt.fill_between(x, mean-std,mean+std,alpha=.1)\n",
    "        \n",
    "        mean = np.array(self.weighted_mean)\n",
    "        std = np.array(self.weighted_std)\n",
    "        plt.plot(x, mean, label=\"Erro ponderado\")\n",
    "        plt.fill_between(x, mean-std,mean+std,alpha=.1)\n",
    "        \n",
    "        plt.plot(x, teste, alpha=0.3, linewidth=2, label=\"Erro no teste\")\n",
    "        \n",
    "        plt.ylim(0.0, 0.5)\n",
    "        plt.legend(loc='center right')\n",
    "        plt.xlabel(\"Número de preditores\")\n",
    "        plt.ylabel(\"Taxa de Erro\")"
   ]
  },
  {
   "cell_type": "markdown",
   "metadata": {},
   "source": [
    "A função `experimentos` recebe como entrada o classificador e o conjunto de parâmetros.\n",
    "\n",
    "Esta função é responsável por treinar o modelo em cada parâmetro usando a validação cruzada (5 partições), coletar os resultados e chamar a função responsável pelo plot."
   ]
  },
  {
   "cell_type": "code",
   "execution_count": 10,
   "metadata": {},
   "outputs": [],
   "source": [
    "def experimentos(repeat, parametros):\n",
    "    \"\"\"Função responsavel por executar o boosting com um conjunto de parametros\"\"\"\n",
    "    results = Results()\n",
    "    teste = []\n",
    "    \n",
    "    for i in parametros:\n",
    "        \n",
    "        clf = Boosting(max_it=i, repeat=repeat)\n",
    "\n",
    "        erro = []\n",
    "        weighted = []\n",
    "\n",
    "        # treina 5 folds\n",
    "        skf = StratifiedKFold(n_splits=5, random_state=123, shuffle=True)\n",
    "\n",
    "        for train_index, test_index in skf.split(X_train, y_train):\n",
    "            X_train_, X_test_ = X_train[train_index], X_train[test_index]\n",
    "            y_train_, y_test_ = y_train.iloc[train_index], y_train.iloc[test_index]\n",
    "\n",
    "            clf.fit(X_train_, y_train_)\n",
    "\n",
    "            # calcula os erros\n",
    "            y_pred = clf.predict(X_test_)\n",
    "            erro.append(np.mean(y_pred != y_test_))\n",
    "\n",
    "            weighted.append(clf.error[len(clf.error)-1])\n",
    "\n",
    "        # Guarda os resultados\n",
    "        results.erro_mean.append(np.mean(erro))\n",
    "        results.erro_std.append(np.std(erro))\n",
    "        results.weighted_mean.append(np.mean(weighted))\n",
    "        results.weighted_std.append(np.std(weighted))\n",
    "\n",
    "        # Calcula o erro no teste\n",
    "        clf.fit(X_train, y_train)\n",
    "        y_pred = clf.predict(X_test)\n",
    "        teste.append(np.mean(y_pred != y_test))\n",
    "\n",
    "    # plota o grafico        \n",
    "    results.plot_erro(parametros, teste)"
   ]
  },
  {
   "cell_type": "markdown",
   "metadata": {},
   "source": [
    "## 4. Resultados\n",
    "\n",
    "O objetivo dos experimentos foi analisar o comportamento da taxa de erro simples a medida em que mais preditores são inseridos no ensemble. Para tal, o número de preditores foi variado de 1 a 400:\n",
    "\n",
    "* max_it = {1, 10, 20, ..., 400}\n",
    "\n",
    "O boosting foi treinado em cada parâmetro utilizando a validação cruzada com 5 folds.\n",
    "\n",
    "Em resumo, os resultados reportados mostram:\n",
    "\n",
    "**O erro ponderado, isto é, o erro obtido no i-éssimo preditor aumenta conforme o número de iterações**\n",
    "\n",
    "Cada preditor realiza erros diferentes de outros preditores selecionados. O primeiro preditor é aquele de menor erro, em seguida novos preditores são treinados dando um peso maior aos exemplos classificados incorretamente e pesos menores aos exemplos classificados corretamente.\n",
    "\n",
    "Note que os classificadores subsequentes possuem uma taxa de erro maior, porém, são ajustados de modo a tentar classificar corretamente os exemplos incorretos da iteração anterior.\n",
    "\n",
    "Em contrapartida, o erro no treino e no teste diminuem.\n",
    "\n",
    "**A taxa de erro no treinamento e no teste diminuem gradativamente de acordo com a inserção de preditores fracos**\n",
    "\n",
    "O algoritmo de boosting visa melhorar a performance de classificadores fracos mediante o uso de ensemble.\n",
    "Estes modelos fracos com baixa variância são combinados iterativamente para formar um modelo forte, reduzindo o viés.\n",
    "\n",
    "Este resultado é bem interessante, pois tomando um classificador fraco como base, é possível combinar múltiplas classificações e ter um modelo forte menos suscetível ao overfitting.\n",
    "\n",
    "Isto é evidente ao analisar a curva do erro do teste. Mesmo quando treinado no conjunto de treino (sem o k-fold), o erro no teste seguiu a mesma tendência do erro registrado na validação cruzada.\n",
    "\n",
    "**Após 300 iterações, a taxa de erro estabiliza-se no treino e no teste, onde a acurácia fica acima de 98%**\n",
    "\n",
    "Em cada iteração, um stump é associado a um coeficiente $\\alpha$. Um coeficiente alto sugere que aquele stump cometeu poucos erros durante o treinamento. Em contrapartida, um stump com coeficiente baixo (possivelmente negativo) sugere que este cometeu diversas classificações incorretas, onde ele considerou uma classe positiva quando na verdade era negativa.\n",
    "\n",
    "Inicialmente, optou-se por tentar implementar o boosting sem repetição de stumps. Contudo, o desempenho do modelo não foi tão bom. A taxa de erro ficou acima de 20%.\n",
    "\n",
    "Os resultados mostraram que é possível obter uma taxa de erro abaixo de 2% quando mais de 200 stumps são combinados. Embora stumps previamente selecionados tenham sido incluindos no ensemble, eles foram treinados com outros conjuntos de treinamento (erro ponderado) e portanto receberam um outro coeficiente de importância $\\alpha$."
   ]
  },
  {
   "cell_type": "code",
   "execution_count": 11,
   "metadata": {},
   "outputs": [
    {
     "data": {
      "image/png": "[encoded data removed]",
      "text/plain": [
       "<Figure size 432x288 with 1 Axes>"
      ]
     },
     "metadata": {
      "needs_background": "light"
     },
     "output_type": "display_data"
    }
   ],
   "source": [
    "parametros = list([1]) +list(range(10, 410, 10)) # parametros avaliados\n",
    "    \n",
    "experimentos(True, parametros) # com repeticao de stumps"
   ]
  },
  {
   "cell_type": "markdown",
   "metadata": {},
   "source": [
    "A seguir, são mostrados os 5 primeiros preditores inseridos no ensemble juntamente com os coeficientes de importância associado a cada preditor.\n",
    "\n",
    "Por exemplo, o preditor $0.2784 \\times h_1$ (X) teve uma importância 0.2784 e classifica um exemplo X como `positive` quando o atributo 1 tem valor 0. "
   ]
  },
  {
   "cell_type": "code",
   "execution_count": 12,
   "metadata": {},
   "outputs": [
    {
     "name": "stdout",
     "output_type": "stream",
     "text": [
      "Top 5 preditores:\n",
      "Feature 7 = Valor 0.0\n",
      "Feature 1 = Valor 0.0\n",
      "Feature 19 = Valor 0.0\n",
      "Feature 25 = Valor 0.0\n",
      "Feature 14 = Valor 1.0\n",
      "\n",
      "Top 5 alfa:\n",
      "0.32136016504670684\n",
      "0.297300835062417\n",
      "0.2968856988196131\n",
      "0.2632687545105961\n",
      "0.2211698722165172\n"
     ]
    },
    {
     "data": {
      "text/plain": [
       "[None, None, None, None, None]"
      ]
     },
     "execution_count": 12,
     "metadata": {},
     "output_type": "execute_result"
    }
   ],
   "source": [
    "clf = Boosting(max_it=300, repeat=True)\n",
    "\n",
    "clf.fit(X_train, y_train)\n",
    "\n",
    "print(\"Top 5 preditores:\")\n",
    "[print(i) for i in clf.ensemble[1:6]]\n",
    "print()\n",
    "print(\"Top 5 alfa:\")\n",
    "[print(i) for i in clf.alpha[1:6]]"
   ]
  },
  {
   "cell_type": "markdown",
   "metadata": {},
   "source": [
    "O código a seguir detalha os experimentos por meio da análise de outras métricas.\n",
    "\n",
    "O boosting treinado com 300 stumps teve uma acurácia média de 98.30%. Além disso, a precisão e a revocação foram próximas de 100%. Estes resultados mostram que o classificador acerta a maioria dos exemplos classificados como `positive`, e além disso, erra muito pouco ao classificar como `positive` um exemplo `negative`.\n",
    "\n",
    "Embora as classes sejam desbalanceadas, o F-1 score foi de quase 100%."
   ]
  },
  {
   "cell_type": "code",
   "execution_count": 13,
   "metadata": {},
   "outputs": [],
   "source": [
    "clf = Boosting(max_it=300, repeat=True) # com repeticao\n",
    "\n",
    "skf = StratifiedKFold(n_splits=5, shuffle=True) # 5 folds\n",
    "\n",
    "i = 1\n",
    "for train_index, test_index in skf.split(X, y):\n",
    "    X_train,X_test = X[train_index],X[test_index]\n",
    "    y_train,y_test = y.iloc[train_index],y.iloc[test_index]\n",
    "\n",
    "    clf.fit(X_train,y_train) # treinamento\n",
    "    y_pred = clf.predict(X_test)\n",
    "            \n",
    "    # calcula todos os scores\n",
    "    \n",
    "    #print(\"Número do fold:\", i)\n",
    "    #print(\"Acurácia: {:.3f}\".format(accuracy_score(y_test, y_pred))) # acurácia\n",
    "    #print(\"Precision: {:.3f}\".format(precision_score(y_test, y_pred, pos_label='positive', zero_division=0)))\n",
    "    #print(\"Recall: {:.3f}\".format(recall_score(y_test, y_pred, pos_label='positive', zero_division=0)))\n",
    "    #print(\"F1: {:.3f}\".format(f1_score(y_test, y_pred, pos_label='positive', zero_division=0)))\n",
    "    #print()\n",
    "    i += 1"
   ]
  },
  {
   "cell_type": "markdown",
   "metadata": {},
   "source": [
    "Fold  | Acurácia | Precisão | Revocação | F1-Score\n",
    "---------  | ------ | ------ | ------ | ------\n",
    "1  | 0.990 | 0.984 | 1.000 | 0.992\n",
    "2 | 0.969 | 0.954 | 1.000 | 0.977\n",
    "3    | 0.990 | 0.984 | 1.000 | 0.992\n",
    "4 | 0.990 | 0.984 | 1.000 |0.992\n",
    "5     | 0.974 | 0.969   | 0.992  |  0.980\n",
    "Média | 0.983 | 0.975   | 0.998  |  0.986"
   ]
  },
  {
   "cell_type": "markdown",
   "metadata": {},
   "source": [
    "O gráfico a seguir mostra o boosting quando os stumps não são repetidos. Neste caso, o número de iterações foi variado de 1 a 56 (máximo permitido).\n",
    "\n",
    "No geral, a taxa de erro no treino e no teste permaneceu na faixa dos 20 ~ 30%.\n",
    "\n",
    "Além disso, o erro ponderado ultrapassou 50% quando mais de 30 preditores foram utilizados."
   ]
  },
  {
   "cell_type": "code",
   "execution_count": 14,
   "metadata": {},
   "outputs": [
    {
     "data": {
      "image/png": "[encoded data removed]",
      "text/plain": [
       "<Figure size 432x288 with 1 Axes>"
      ]
     },
     "metadata": {
      "needs_background": "light"
     },
     "output_type": "display_data"
    }
   ],
   "source": [
    "parametros = range(1, 57) # parametros avaliados\n",
    "    \n",
    "experimentos(False, parametros) # sem repeticao de stumps"
   ]
  },
  {
   "cell_type": "markdown",
   "metadata": {},
   "source": [
    "Claramente, a primeira implementação teve um desempenho melhor. Em ambos os casos o comportamento do AdaBoost foi o mesmo. O erro ponderado aumenta com o número de iterações a medida em que os erros no treino/teste diminuem.\n",
    "\n",
    "Este comportamento vai de acordo com o que foi mencionado antes. O preditor que minimiza o erro é selecionado de antemão, por isso ele é aquele de menor erro. A medida em que os preditores melhores são selecionados, sobram aqueles com taxa de erro maior.\n",
    "\n",
    "Porém, o ajuste de importância atua ponderando a classificação de cada preditor, onde um preditor pode contribuir com uma classificação correta em casos onde outro preditor errou."
   ]
  },
  {
   "cell_type": "markdown",
   "metadata": {},
   "source": [
    "## 5. Conclusão\n",
    "Neste trabalho foi implementado um algoritmo de boosting para um problema de classificação binária com atributos categóricos. Os experimentos utilizaram um conjunto de dados `tic-tac-toe`, que descreve diferentes configurações de um tabuleiro do jogo da velha.\n",
    "\n",
    "Os resultados relatados mostraram uma acurácia média de aproximadamente 98% na validação cruzada, onde a taxa de erro simples chegou a cerca de 2%. Para tal, árvores stumps foram utilizadas como algoritmo base, em que o modelo construído com 300 preditores obtive o melhor resultado.\n",
    "\n",
    "Foi possível compreender os conceitos fundamentais por trás da implementação de boosting e de que modo o número de preditores afeta a performance do modelo. Por meio da combinação de modelos fracos, foi possível obter um modelo forte que não \"overfitta\", melhorando o alto viés do stump, mas mantendo uma baixa variância."
   ]
  }
 ],
 "metadata": {
  "kernelspec": {
   "display_name": "Python 3",
   "language": "python",
   "name": "python3"
  },
  "language_info": {
   "codemirror_mode": {
    "name": "ipython",
    "version": 3
   },
   "file_extension": ".py",
   "mimetype": "text/x-python",
   "name": "python",
   "nbconvert_exporter": "python",
   "pygments_lexer": "ipython3",
   "version": "3.6.9"
  }
 },
 "nbformat": 4,
 "nbformat_minor": 4
}
